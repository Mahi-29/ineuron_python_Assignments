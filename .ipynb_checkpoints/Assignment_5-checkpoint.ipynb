{
 "cells": [
  {
   "cell_type": "markdown",
   "id": "3a23cbc5-be9a-47da-930b-ce0dac0bcf0c",
   "metadata": {},
   "source": [
    "## Q1. What does an empty dictionary's code look like?\n",
    "\n",
    "Answer: \n",
    " d={}"
   ]
  },
  {
   "cell_type": "code",
   "execution_count": 1,
   "id": "d840f95b-e47f-40db-9a01-5e95eaf7f081",
   "metadata": {},
   "outputs": [
    {
     "data": {
      "text/plain": [
       "dict"
      ]
     },
     "execution_count": 1,
     "metadata": {},
     "output_type": "execute_result"
    }
   ],
   "source": [
    "d = {}\n",
    "type(d)"
   ]
  },
  {
   "cell_type": "markdown",
   "id": "eeaf7936-9897-4c00-8a78-b136f91bd599",
   "metadata": {},
   "source": [
    "## Q2. What is the value of a dictionary value with the key 'foo' and the value 42?\n",
    "\n",
    "Answer: \n",
    "        value will be [42]"
   ]
  },
  {
   "cell_type": "code",
   "execution_count": 3,
   "id": "aead3f47-88b7-407b-9fa9-0d3a6fb9bf49",
   "metadata": {},
   "outputs": [
    {
     "data": {
      "text/plain": [
       "dict_values([42])"
      ]
     },
     "execution_count": 3,
     "metadata": {},
     "output_type": "execute_result"
    }
   ],
   "source": [
    "d={'foo':42}\n",
    "d.values()"
   ]
  },
  {
   "cell_type": "markdown",
   "id": "c74ec2b3-7ea1-4844-8a2f-cd69db0582e3",
   "metadata": {},
   "source": [
    "## Q3. What is the most significant distinction between a dictionary and a list?\n",
    "\n",
    "Answer: \n",
    "\n",
    "* Dictionary is defined by '{}' and lists is defined by '[]'\n",
    "* Dictionary has key and b=value pairs and list has only values with index which are auto assigned"
   ]
  },
  {
   "cell_type": "markdown",
   "id": "e228c788-a7bb-48f8-ac7f-0a03c4c75be7",
   "metadata": {},
   "source": [
    "## Q4. What happens if you try to access spam['foo'] if spam is {'bar': 100}?\n",
    "\n",
    "Answer: python will give a keyError as foo name key does not exist."
   ]
  },
  {
   "cell_type": "code",
   "execution_count": 5,
   "id": "8157e2b8-52f9-44bf-a1b5-0ace60214439",
   "metadata": {},
   "outputs": [
    {
     "ename": "KeyError",
     "evalue": "'foo'",
     "output_type": "error",
     "traceback": [
      "\u001b[0;31m---------------------------------------------------------------------------\u001b[0m",
      "\u001b[0;31mKeyError\u001b[0m                                  Traceback (most recent call last)",
      "Cell \u001b[0;32mIn[5], line 2\u001b[0m\n\u001b[1;32m      1\u001b[0m spam \u001b[38;5;241m=\u001b[39m {\u001b[38;5;124m'\u001b[39m\u001b[38;5;124mbar\u001b[39m\u001b[38;5;124m'\u001b[39m:\u001b[38;5;241m100\u001b[39m}\n\u001b[0;32m----> 2\u001b[0m \u001b[38;5;28mprint\u001b[39m(\u001b[43mspam\u001b[49m\u001b[43m[\u001b[49m\u001b[38;5;124;43m'\u001b[39;49m\u001b[38;5;124;43mfoo\u001b[39;49m\u001b[38;5;124;43m'\u001b[39;49m\u001b[43m]\u001b[49m)\n",
      "\u001b[0;31mKeyError\u001b[0m: 'foo'"
     ]
    }
   ],
   "source": [
    "spam = {'bar':100}\n",
    "print(spam['foo'])"
   ]
  },
  {
   "cell_type": "markdown",
   "id": "e2ce8a9b-ec5b-4138-a15f-61b950a7c043",
   "metadata": {},
   "source": [
    "## Q5. If a dictionary is stored in spam, what is the difference between the expressions 'cat' in spam and 'cat' in spam.keys()?\n",
    "\n",
    "Answer:  Both the satments 'cat' in spam and 'cat' in spam.keys() are same as this will scearch if there is any key named cat or not."
   ]
  },
  {
   "cell_type": "markdown",
   "id": "629cef02-1fd3-40a5-ab48-33952f9859d6",
   "metadata": {},
   "source": [
    "## Q6. If a dictionary is stored in spam, what is the difference between the expressions 'cat' in spam and 'cat' in spam.values()?\n",
    "\n",
    "Answer: 'cat' in spam will search if 'cat' exits in keys and 'cat' in spam.values() will give true if 'cat' is in values of dictionary."
   ]
  },
  {
   "cell_type": "markdown",
   "id": "05887a02-ec95-4a4c-9a19-5129ec98fd90",
   "metadata": {},
   "source": [
    "## Q7. What is a shortcut for the following code?\n",
    "if 'color' not in spam:\n",
    "    spam['color'] = 'black'\n",
    "\n",
    "Answer: spam.setdefault('color', 'black')"
   ]
  },
  {
   "cell_type": "code",
   "execution_count": 12,
   "id": "d214afe2-bf37-4496-aff0-5280ba5da885",
   "metadata": {},
   "outputs": [
    {
     "name": "stdout",
     "output_type": "stream",
     "text": [
      "{'key1': 'testing', 'color': 'black'}\n",
      "{'key1': 'testing', 'color': 'black'}\n"
     ]
    }
   ],
   "source": [
    "spam = {'key1':'testing'}\n",
    "spam.setdefault('color', 'black')\n",
    "print(spam)\n",
    "spam.setdefault('color', 'white')\n",
    "print(spam)"
   ]
  },
  {
   "cell_type": "markdown",
   "id": "916ed35c-1d2f-4d0d-a77b-82c7b39e07f0",
   "metadata": {},
   "source": [
    "## Q8. How do you \"pretty print\" dictionary values using which module and function?"
   ]
  },
  {
   "cell_type": "code",
   "execution_count": 14,
   "id": "0cf5f071-d3d1-4496-b604-4b4bb6e4a962",
   "metadata": {},
   "outputs": [
    {
     "name": "stdout",
     "output_type": "stream",
     "text": [
      "{'k1': 1,\n",
      " 'k10': 4,\n",
      " 'k11': 5,\n",
      " 'k12': 6,\n",
      " 'k2': 2,\n",
      " 'k3': 3,\n",
      " 'k4': 4,\n",
      " 'k5': 5,\n",
      " 'k6': 6,\n",
      " 'k7': 1,\n",
      " 'k8': 2,\n",
      " 'k9': 3}\n"
     ]
    }
   ],
   "source": [
    "import pprint\n",
    "d = {'k1':1, 'k2':2, 'k3':3, 'k4':4, 'k5':5, 'k6':6,'k7':1, 'k8':2, 'k9':3, 'k10':4, 'k11':5, 'k12':6 }\n",
    "pprint.pprint(d)"
   ]
  },
  {
   "cell_type": "code",
   "execution_count": 15,
   "id": "65e30e3b-e651-4a69-9c28-8642f998a317",
   "metadata": {},
   "outputs": [
    {
     "name": "stdout",
     "output_type": "stream",
     "text": [
      "{'k1': 1, 'k2': 2, 'k3': 3, 'k4': 4, 'k5': 5, 'k6': 6, 'k7': 1, 'k8': 2, 'k9': 3, 'k10': 4, 'k11': 5, 'k12': 6}\n"
     ]
    }
   ],
   "source": [
    "print(d)"
   ]
  }
 ],
 "metadata": {
  "kernelspec": {
   "display_name": "Python 3 (ipykernel)",
   "language": "python",
   "name": "python3"
  },
  "language_info": {
   "codemirror_mode": {
    "name": "ipython",
    "version": 3
   },
   "file_extension": ".py",
   "mimetype": "text/x-python",
   "name": "python",
   "nbconvert_exporter": "python",
   "pygments_lexer": "ipython3",
   "version": "3.10.9"
  }
 },
 "nbformat": 4,
 "nbformat_minor": 5
}
