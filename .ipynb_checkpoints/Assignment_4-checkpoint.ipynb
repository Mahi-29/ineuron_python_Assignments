{
 "cells": [
  {
   "cell_type": "markdown",
   "id": "0663e5f1-4797-45a4-b150-6995922102cb",
   "metadata": {},
   "source": [
    "## Q1. What exactly is []?\n",
    "\n",
    "Answer: \"[]\" are square brackets used in creating list by adding items in brackets."
   ]
  },
  {
   "cell_type": "markdown",
   "id": "05e56eba-92be-4b6f-9414-026944a986d6",
   "metadata": {},
   "source": [
    "## Q2. In a list of values stored in a variable called spam, how would you assign the value 'hello' as the third value? (Assume [2, 4, 6, 8, 10] are in spam.)"
   ]
  },
  {
   "cell_type": "code",
   "execution_count": 1,
   "id": "631c40c1-9017-44eb-92ba-dd479fb747eb",
   "metadata": {},
   "outputs": [
    {
     "name": "stdout",
     "output_type": "stream",
     "text": [
      "[2, 4, 'hello', 8, 10]\n"
     ]
    }
   ],
   "source": [
    "# Answer:\n",
    "spam = [2, 4, 6, 8, 10]\n",
    "spam[2] = \"hello\"\n",
    "print(spam)"
   ]
  },
  {
   "cell_type": "markdown",
   "id": "d1af7d8b-8480-43a2-b0fc-5c20f50b3613",
   "metadata": {},
   "source": [
    "## Q3. What is the value of spam[int(int('3' * 2) / 11)]?"
   ]
  },
  {
   "cell_type": "code",
   "execution_count": 3,
   "id": "82a71c70-d7ce-4329-9a83-55612879cbe5",
   "metadata": {},
   "outputs": [
    {
     "name": "stdout",
     "output_type": "stream",
     "text": [
      "spam[int(int(3*2)/11)]=2\n"
     ]
    }
   ],
   "source": [
    "print(f\"spam[int(int(3*2)/11)]={spam[int(int(3*2)/11)]}\")"
   ]
  },
  {
   "cell_type": "markdown",
   "id": "3579f0a1-c1b6-48c1-9ab7-9670d44c8b8c",
   "metadata": {},
   "source": [
    "## Q4. What is the value of spam[-1]?\n",
    "\n",
    "Answer: last element of list will be shown i.e. 10"
   ]
  },
  {
   "cell_type": "code",
   "execution_count": 4,
   "id": "8a6b4439-a637-4b79-8cfd-01913c605c07",
   "metadata": {},
   "outputs": [
    {
     "data": {
      "text/plain": [
       "10"
      ]
     },
     "execution_count": 4,
     "metadata": {},
     "output_type": "execute_result"
    }
   ],
   "source": [
    "spam[-1]"
   ]
  },
  {
   "cell_type": "markdown",
   "id": "4a4189fd-e0c1-4480-93a0-ec1dc7044185",
   "metadata": {},
   "source": [
    "## Q5. What is the value of spam[:2]?\n",
    "\n",
    "Answer: spam[:2] this will slice the spam list till 2nd index"
   ]
  },
  {
   "cell_type": "code",
   "execution_count": 6,
   "id": "25a6d1cb-3ee2-4760-b52a-b22c793742e6",
   "metadata": {},
   "outputs": [
    {
     "data": {
      "text/plain": [
       "[2, 4]"
      ]
     },
     "execution_count": 6,
     "metadata": {},
     "output_type": "execute_result"
    }
   ],
   "source": [
    "spam[:2]"
   ]
  },
  {
   "cell_type": "code",
   "execution_count": 10,
   "id": "a9df4605-bf05-45ee-abd3-0e150b3523ac",
   "metadata": {},
   "outputs": [],
   "source": [
    "## Let's pretend bacon has the list [3.14, 'cat,' 11, 'cat,' True] \n",
    "#for the next three questions.\n",
    "bacon = [3.14, 'cat', 11, 'cat', True]"
   ]
  },
  {
   "cell_type": "markdown",
   "id": "e58e9232-2127-499c-96cb-fc09a750eecb",
   "metadata": {},
   "source": [
    "## Q6. What is the value of bacon.index('cat')?\n",
    "\n",
    "Answer: bacon.index('cat') this will give us the first occurance index i.e. 1"
   ]
  },
  {
   "cell_type": "code",
   "execution_count": 11,
   "id": "116815c7-9546-4070-a2c0-28be60ea64cb",
   "metadata": {},
   "outputs": [
    {
     "data": {
      "text/plain": [
       "1"
      ]
     },
     "execution_count": 11,
     "metadata": {},
     "output_type": "execute_result"
    }
   ],
   "source": [
    "bacon.index('cat')"
   ]
  },
  {
   "cell_type": "markdown",
   "id": "8cdc6c14-0646-4a32-a0bb-b3c12d7b3af2",
   "metadata": {},
   "source": [
    "## Q7. How does bacon.append(99) change the look of the list value in bacon?\n",
    "\n",
    "Answer: bacon will have values as [3.14, 'cat', 11, 'cat', True, 99]"
   ]
  },
  {
   "cell_type": "code",
   "execution_count": 12,
   "id": "13102c4e-34c2-42f9-8727-45de1c41cae9",
   "metadata": {},
   "outputs": [
    {
     "data": {
      "text/plain": [
       "[3.14, 'cat', 11, 'cat', True, 99]"
      ]
     },
     "execution_count": 12,
     "metadata": {},
     "output_type": "execute_result"
    }
   ],
   "source": [
    "bacon.append(99)\n",
    "bacon"
   ]
  },
  {
   "cell_type": "markdown",
   "id": "c1195d99-37a5-4ce1-ab0e-24f1f5fc7deb",
   "metadata": {},
   "source": [
    "## Q8.  How does bacon.remove('cat') change the look of the list in bacon?\n",
    "\n",
    "Answer: bacon.remove('cat') will remove the elemet at first occurance i.e. at index 2"
   ]
  },
  {
   "cell_type": "code",
   "execution_count": 14,
   "id": "7f56696d-3416-48d2-a6e9-ee9b13aa9ef3",
   "metadata": {},
   "outputs": [
    {
     "data": {
      "text/plain": [
       "[3.14, 11, True, 99]"
      ]
     },
     "execution_count": 14,
     "metadata": {},
     "output_type": "execute_result"
    }
   ],
   "source": [
    "bacon.remove('cat')\n",
    "bacon"
   ]
  },
  {
   "cell_type": "markdown",
   "id": "7664453e-5d30-4b58-84fd-f74558e3f5df",
   "metadata": {},
   "source": [
    "## Q9. What are the list concatenation and list replication operators?\n",
    "\n",
    "Answer: \n",
    "\n",
    " list concatenation : +\n",
    " \n",
    " list replication : *\n",
    " \n",
    " will work as shoun below"
   ]
  },
  {
   "cell_type": "code",
   "execution_count": 19,
   "id": "5b818fe6-f65f-466d-b4d9-fa12ff4810e2",
   "metadata": {},
   "outputs": [
    {
     "name": "stdout",
     "output_type": "stream",
     "text": [
      "concatinated list: [1, 2, 4, 5, 6, 3, 0, 9, 8, 7] \n",
      "replicated list: [1, 2, 4, 5, 6, 3, 1, 2, 4, 5, 6, 3, 1, 2, 4, 5, 6, 3] \n"
     ]
    }
   ],
   "source": [
    "l = [1,2,4,5,6,3]\n",
    "l2 = [0,9,8,7]\n",
    "\n",
    "l3= l+l2\n",
    "l4 = l*3\n",
    "\n",
    "print(f\"concatinated list: {l3} \")\n",
    "print(f\"replicated list: {l4} \")"
   ]
  },
  {
   "cell_type": "markdown",
   "id": "ddd8ff3e-c5b8-4a8d-a77c-5c8506412a19",
   "metadata": {},
   "source": [
    "## Q10. What is difference between the list methods append() and insert()?\n",
    "\n",
    "Answer:\n",
    "\n",
    "append() will add element to the list at the end.\n",
    "\n",
    "insert() will add element to specified index \n",
    "\n",
    "as shown below"
   ]
  },
  {
   "cell_type": "code",
   "execution_count": 22,
   "id": "0555b350-04ed-47cf-a337-168f9368cd40",
   "metadata": {},
   "outputs": [
    {
     "name": "stdout",
     "output_type": "stream",
     "text": [
      "After using append() :[1, 2, 3, 4, 5, 6]\n",
      "After using insert() :[1, 'insertedelement', 2, 3, 4, 5, 6]\n"
     ]
    }
   ],
   "source": [
    "l = [1, 2, 3, 4, 5]\n",
    "l.append(6)\n",
    "print(f\"After using append() :{l}\")\n",
    "\n",
    "l.insert(1,'insertedelement')\n",
    "print(f\"After using insert() :{l}\")\n"
   ]
  },
  {
   "cell_type": "markdown",
   "id": "4c43f06f-647c-4ca2-a80d-293051058601",
   "metadata": {},
   "source": [
    "## Q11. What are the two methods for removing items from a list?\n",
    "\n",
    "Answer: Two methods to remove the element from list are pop and remove, here pop works on index and returns the removed element, and remove takes element of list as argument. both methos are shown below"
   ]
  },
  {
   "cell_type": "code",
   "execution_count": 23,
   "id": "5154cda9-a45d-4955-88e1-1ff7b0877ba3",
   "metadata": {},
   "outputs": [
    {
     "name": "stdout",
     "output_type": "stream",
     "text": [
      "list after pop: [1, 4, 5]\n",
      "list after remove: [1, 5]\n"
     ]
    }
   ],
   "source": [
    "l=[1, 23, 4, 5, 6]\n",
    "l.pop(1)\n",
    "l.pop()# if no argument is given pop will remove last element\n",
    "print(f\"list after pop: {l}\")\n",
    "\n",
    "l.remove(4)\n",
    "print(f\"list after remove: {l}\")"
   ]
  },
  {
   "cell_type": "markdown",
   "id": "562d1227-abc6-49d8-86fb-3969b25e4dda",
   "metadata": {},
   "source": [
    "## Q12. Describe how list values and string values are identical.\n",
    "\n",
    "Answer: \n",
    "* In list and string we can use index to get a element and -ve indexing works on both\n",
    "* In both we can use slicing as shown below\n"
   ]
  },
  {
   "cell_type": "code",
   "execution_count": 26,
   "id": "ba29ba0a-4be5-4a1f-b2b9-ef6460cc853f",
   "metadata": {},
   "outputs": [
    {
     "name": "stdout",
     "output_type": "stream",
     "text": [
      "Getting element by index in list l[1] = 2\n",
      "Getting element by index in string s[1] = s\n",
      "slicing list from 0 to 3 index l[:3] = [1, 2, 3]\n",
      "slicing string from 0 to 3 index s[:3] = asd\n"
     ]
    }
   ],
   "source": [
    "l = [1,2,3,4]\n",
    "s= \"asdf\"\n",
    "\n",
    "print(f\"Getting element by index in list l[1] = {l[1]}\")\n",
    "print(f\"Getting element by index in string s[1] = {s[1]}\")\n",
    "print(f\"slicing list from 0 to 3 index l[:3] = {l[:3]}\")\n",
    "print(f\"slicing string from 0 to 3 index s[:3] = {s[:3]}\")\n"
   ]
  },
  {
   "cell_type": "markdown",
   "id": "3e980892-dbcc-48b8-ae48-0edbd04f2daf",
   "metadata": {},
   "source": [
    "## Q13.  What's the difference between tuples and lists?\n",
    "\n",
    "Answer: \n",
    "\n",
    "Tuples are immutable and  lists are mutable.\n",
    "\n",
    "we cannot add new elements to tuples like list also there are no methodes to remove tuples elements."
   ]
  },
  {
   "cell_type": "markdown",
   "id": "e3743a60-50f7-4045-ba2c-85eee6b1b1fc",
   "metadata": {},
   "source": [
    "## Q14. How do you type a tuple value that only contains the integer 42?\n",
    "\n",
    "\n",
    "Answer:  \n",
    "\n",
    "tuple with only 42: t = (42,) "
   ]
  },
  {
   "cell_type": "markdown",
   "id": "3c5a4223-c7cb-4faa-ba57-319ae7ee487e",
   "metadata": {},
   "source": [
    "## Q15. How do you get a list value's tuple form? How do you get a tuple value's list form?\n",
    "\n",
    "Answer: \n",
    "\n",
    "let list be l = [1,2,3,4,5] and tuple be t = (1,2,3)\n",
    "\n",
    "To convert list l to tuple we can use t1 = tuple(l)\n",
    "\n",
    "and to convert tuple to list we can user l1 = list(t)"
   ]
  },
  {
   "cell_type": "code",
   "execution_count": 40,
   "id": "7b334358-4a4b-4144-9e7c-61930d839b67",
   "metadata": {},
   "outputs": [
    {
     "name": "stdout",
     "output_type": "stream",
     "text": [
      "list: [1, 2, 3, 4, 5] to tuple: (1, 2, 3, 4, 5)\n",
      "tuple : (1, 2, 3) to list: [1, 2, 3]\n"
     ]
    }
   ],
   "source": [
    "l = [1,2,3,4,5] \n",
    "t = (1,2,3)\n",
    "\n",
    "print(f\"list: {l} to tuple: {tuple(l)}\")\n",
    "print(f\"tuple : {t} to list: {list(t)}\")"
   ]
  },
  {
   "cell_type": "markdown",
   "id": "39180d49-69b8-4e50-a4ee-daafffabb66c",
   "metadata": {},
   "source": [
    "## Q16. Variables that \"contain\" list values are not necessarily lists themselves. Instead, what do they contain?\n",
    "\n",
    "Answer: \n",
    "\n",
    "variable that contains list will contain the refrence to list.\n"
   ]
  },
  {
   "cell_type": "markdown",
   "id": "14074ad0-756f-4558-9fca-15085bff37ee",
   "metadata": {},
   "source": [
    "## Q17. How do you distinguish between copy.copy() and copy.deepcopy()?\n",
    "\n",
    "Answer:\n",
    "\n",
    "The copy() and deepcopy() is only relevent to compound objects like list, dictionary, sets, etc.\n",
    "if copy() function is used to copy a object then it will only give refrence of same object to new variable, In case of deepcopy() new object is created recurcivly and assiged to variable."
   ]
  },
  {
   "cell_type": "code",
   "execution_count": null,
   "id": "01303a3e-4450-42bd-9078-adac61b92907",
   "metadata": {},
   "outputs": [],
   "source": []
  }
 ],
 "metadata": {
  "kernelspec": {
   "display_name": "Python 3 (ipykernel)",
   "language": "python",
   "name": "python3"
  },
  "language_info": {
   "codemirror_mode": {
    "name": "ipython",
    "version": 3
   },
   "file_extension": ".py",
   "mimetype": "text/x-python",
   "name": "python",
   "nbconvert_exporter": "python",
   "pygments_lexer": "ipython3",
   "version": "3.10.9"
  }
 },
 "nbformat": 4,
 "nbformat_minor": 5
}
