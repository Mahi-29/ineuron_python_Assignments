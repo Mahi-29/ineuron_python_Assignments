{
 "cells": [
  {
   "cell_type": "markdown",
   "id": "df704a32-cd52-4854-8ac8-1fe0e6e6baed",
   "metadata": {
    "id": "ebe984f3-7de4-4df9-9fe9-0470f664054c",
    "tags": []
   },
   "source": [
    "Q1. In the below elements which of them are values or an expression? eg:- \n",
    "\n",
    "---\n",
    "\n",
    "values can be integer or string and expressions will be mathematical operators.\n",
    "\n",
    "---\n",
    "\n",
    "\n",
    "# * \n",
    "\n",
    "'hello'\n",
    "\n",
    "-87.8\n",
    "\n",
    "'-'\n",
    "\n",
    "/\n",
    "+\n",
    "    \n",
    "6 \n",
    "\n",
    "Answer 1:\n",
    "    * is a expression (mathematical oprator)\n",
    "\n",
    "'hello' is a string value\n",
    "\n",
    "-87.8 is a float value\n",
    "\n",
    "'-' is a expression (mathematical operator)\n",
    "\n",
    "/ is a expression (mathematical operator)\n",
    "\n",
    "'+' is a expression (mathematical operator)\n",
    "\n",
    "6 is a int value"
   ]
  },
  {
   "cell_type": "markdown",
   "id": "1f72ac8b-296d-45aa-913f-f076eae6b253",
   "metadata": {
    "id": "1f72ac8b-296d-45aa-913f-f076eae6b253"
   },
   "source": [
    "                     "
   ]
  },
  {
   "cell_type": "markdown",
   "id": "3cb4053c-cbc4-4c50-beb7-656748280652",
   "metadata": {
    "id": "3cb4053c-cbc4-4c50-beb7-656748280652"
   },
   "source": [
    "                           "
   ]
  },
  {
   "cell_type": "markdown",
   "id": "1a59cf9e-8ba9-4187-b7a5-05e55479d1a5",
   "metadata": {
    "id": "1a59cf9e-8ba9-4187-b7a5-05e55479d1a5",
    "tags": []
   },
   "source": [
    "## Q2. What is the difference between string and variable?\n",
    "Answer:\n",
    "        string is a data type in a python and variable is a container to which values are assinged e.g. abc=\"hello\", in the example abc is variable to which string value is assigned"
   ]
  },
  {
   "cell_type": "markdown",
   "id": "175c72ad-da42-4025-b00d-fdaa96a2300b",
   "metadata": {
    "id": "175c72ad-da42-4025-b00d-fdaa96a2300b"
   },
   "source": [
    "         "
   ]
  },
  {
   "cell_type": "markdown",
   "id": "8d29a037-5c79-4fc3-865e-bec627c1f882",
   "metadata": {
    "id": "8d29a037-5c79-4fc3-865e-bec627c1f882"
   },
   "source": [
    "                   "
   ]
  },
  {
   "cell_type": "markdown",
   "id": "7c8f621f-10a8-45a0-8f02-58377bbd8abb",
   "metadata": {
    "id": "7c8f621f-10a8-45a0-8f02-58377bbd8abb"
   },
   "source": [
    "## Q3. Describe three different data types.\n",
    "\n",
    "Answer:\n",
    "    1. Strings: string data type is used to store different types of alpha numeric data, strings characters can be accessed by index, strings are immutable means you cannot change the elements of strings via index or we cannot append new elements to strings without concatination of two strings."
   ]
  },
  {
   "cell_type": "code",
   "execution_count": null,
   "id": "896fa503-7449-4127-824a-7d4ac35639f6",
   "metadata": {
    "id": "896fa503-7449-4127-824a-7d4ac35639f6",
    "outputId": "77337644-58bd-413f-d92c-54f7b2c50e63"
   },
   "outputs": [
    {
     "name": "stdout",
     "output_type": "stream",
     "text": [
      "anb23\n",
      "n\n"
     ]
    },
    {
     "data": {
      "text/plain": [
       "'s[1]=2'"
      ]
     },
     "execution_count": 1,
     "metadata": {},
     "output_type": "execute_result"
    }
   ],
   "source": [
    "s= \"anb23\" #sting data type\n",
    "print(s)\n",
    "print(s[1])\n",
    "\"\"\"s[1]=2\"\"\" # will give error"
   ]
  },
  {
   "cell_type": "markdown",
   "id": "d7f7625d-cd28-4fb8-9755-6bfbb13873e5",
   "metadata": {
    "id": "d7f7625d-cd28-4fb8-9755-6bfbb13873e5"
   },
   "source": [
    "**2) int** : Integers is a Numeric data type and these are used to store number values and we can perform arithmetic oprations on the int,"
   ]
  },
  {
   "cell_type": "code",
   "execution_count": null,
   "id": "e8359405-05a5-4424-b59d-76b1d0fc37c9",
   "metadata": {
    "id": "e8359405-05a5-4424-b59d-76b1d0fc37c9"
   },
   "outputs": [],
   "source": [
    "num=10 #by default python will take it as int no need to give the data type"
   ]
  },
  {
   "cell_type": "markdown",
   "id": "47e7976f-25f6-4551-83bb-ddbf39c63490",
   "metadata": {
    "id": "47e7976f-25f6-4551-83bb-ddbf39c63490"
   },
   "source": [
    "**3) List**: Lists are sequence data type, Lists can hold multiple values these are heterogenous in nature and are mutable means we can enter new elements through append function or we can chanage element on certain index."
   ]
  },
  {
   "cell_type": "code",
   "execution_count": null,
   "id": "9eaf0563-01f1-4d1e-8c28-cb32b81ecfa2",
   "metadata": {
    "id": "9eaf0563-01f1-4d1e-8c28-cb32b81ecfa2",
    "outputId": "51fd65cd-cbef-4f86-8a70-f68da5d19cb9"
   },
   "outputs": [
    {
     "name": "stdout",
     "output_type": "stream",
     "text": [
      "sd\n",
      "3\n",
      "[1, 3, 2, ['sd', 'sdsd', 2], (1, 2, 3)]\n"
     ]
    }
   ],
   "source": [
    "l = [1,'sd',2,['sd','sdsd',2],(1,2,3)]\n",
    "print(l[1])\n",
    "l[1]=3\n",
    "print(l[1])\n",
    "print(l)"
   ]
  },
  {
   "cell_type": "markdown",
   "id": "22a793e5-0705-41c7-bcf6-ad65797460a0",
   "metadata": {
    "id": "22a793e5-0705-41c7-bcf6-ad65797460a0"
   },
   "source": [
    "                "
   ]
  },
  {
   "cell_type": "markdown",
   "id": "a73384e0-fe6a-4494-a677-efde5a11cdba",
   "metadata": {
    "id": "a73384e0-fe6a-4494-a677-efde5a11cdba"
   },
   "source": [
    "                "
   ]
  },
  {
   "cell_type": "markdown",
   "id": "ab1aba2f-1abb-4a82-a2fe-63288ac03ccd",
   "metadata": {
    "id": "ab1aba2f-1abb-4a82-a2fe-63288ac03ccd"
   },
   "source": [
    "## Q4 What is an expression made up of? What do all expressions do?\n",
    "\n",
    "Answer:\n",
    "\n",
    "Expression generally contains values, operators, variables and function calls. Expressions calculate the output on the basis of values provided and operators given and will calculate on basics of order of oprators. expressions will give integer, float, boolean type of values.Multiple values will be reduced to single value.\n",
    "\n"
   ]
  },
  {
   "cell_type": "markdown",
   "id": "d4cf31f1-b2fc-4fe9-8c27-29347422925c",
   "metadata": {
    "id": "d4cf31f1-b2fc-4fe9-8c27-29347422925c"
   },
   "source": [
    "## "
   ]
  },
  {
   "cell_type": "markdown",
   "id": "97a2913b-218c-4223-a09b-989c3909807b",
   "metadata": {
    "id": "97a2913b-218c-4223-a09b-989c3909807b"
   },
   "source": [
    "## Q5  This assignment statements, like spam = 10. What is the difference between an expression and a statement?\n",
    "\n",
    "Answer:\n",
    "        assignment statments are used to assign the value to a variable. Expression will be used to calculate the single value from combination of values, variables and operators."
   ]
  },
  {
   "cell_type": "markdown",
   "id": "83b05f87-801d-4e48-8c89-6ef3fe130fc8",
   "metadata": {
    "id": "83b05f87-801d-4e48-8c89-6ef3fe130fc8"
   },
   "source": [
    "## "
   ]
  },
  {
   "cell_type": "markdown",
   "id": "75788ad9-6a2d-439f-8031-6f0ea958e230",
   "metadata": {
    "id": "75788ad9-6a2d-439f-8031-6f0ea958e230"
   },
   "source": [
    "## Q6 After running the following code, what does the variable bacon contain?\n",
    "\n",
    "bacon = 22\n",
    "\n",
    "bacon + 1\n",
    "\n",
    "Answer: \n",
    "    bacon will have 22 in it"
   ]
  },
  {
   "cell_type": "code",
   "execution_count": null,
   "id": "934a603d-6ff6-4ff7-8dac-59e688a2421d",
   "metadata": {
    "id": "934a603d-6ff6-4ff7-8dac-59e688a2421d",
    "outputId": "afd058be-24ff-4b79-9719-72ff1cff8827"
   },
   "outputs": [
    {
     "name": "stdout",
     "output_type": "stream",
     "text": [
      "22\n"
     ]
    }
   ],
   "source": [
    "bacon = 22\n",
    "\n",
    "bacon + 1\n",
    "print(bacon)"
   ]
  },
  {
   "cell_type": "markdown",
   "id": "d26bf077-fba2-4cd2-beab-7148929f99c5",
   "metadata": {
    "id": "d26bf077-fba2-4cd2-beab-7148929f99c5"
   },
   "source": [
    "      \n",
    "      \n",
    "      "
   ]
  },
  {
   "cell_type": "markdown",
   "id": "52d10e3d-fdb1-4255-9eab-bed9c690c3bc",
   "metadata": {
    "id": "52d10e3d-fdb1-4255-9eab-bed9c690c3bc"
   },
   "source": [
    "    "
   ]
  },
  {
   "cell_type": "markdown",
   "id": "d4826ec5-1b3c-46a9-9c56-4daaaa3f9bdb",
   "metadata": {
    "id": "d4826ec5-1b3c-46a9-9c56-4daaaa3f9bdb"
   },
   "source": [
    "## Q7 What should the values of the following two terms be?\n",
    "\n",
    "'spam' + 'spamspam'\n",
    "\n",
    "'spam' * 3\n",
    "\n",
    "Answer:\n",
    "      'spam'+'spamspam' = 'spamspamspam'\n",
    "\n",
    "'spam'*3 = 'spamspamspam'"
   ]
  },
  {
   "cell_type": "code",
   "execution_count": null,
   "id": "be83fcbc-164c-477a-a3cc-4ee1221f508c",
   "metadata": {
    "id": "be83fcbc-164c-477a-a3cc-4ee1221f508c",
    "outputId": "c4c5c6e1-5622-4bb9-b6c6-8be0a3adf900"
   },
   "outputs": [
    {
     "name": "stdout",
     "output_type": "stream",
     "text": [
      "spamspamspam\n",
      "spamspamspam\n"
     ]
    }
   ],
   "source": [
    "print('spam'+'spamspam')\n",
    "print('spam'*3)"
   ]
  },
  {
   "cell_type": "markdown",
   "id": "e97248a1-6cce-4ab2-972f-70225c086901",
   "metadata": {
    "id": "e97248a1-6cce-4ab2-972f-70225c086901"
   },
   "source": [
    "            "
   ]
  },
  {
   "cell_type": "markdown",
   "id": "315860e0-3f63-4679-9c8d-fb81ffac2cee",
   "metadata": {
    "id": "315860e0-3f63-4679-9c8d-fb81ffac2cee"
   },
   "source": [
    "                  \n",
    "                   \n",
    "                    \n",
    "                    "
   ]
  },
  {
   "cell_type": "markdown",
   "id": "c0c64f0f-3530-4cea-8c72-ffd65495896a",
   "metadata": {
    "id": "c0c64f0f-3530-4cea-8c72-ffd65495896a"
   },
   "source": [
    "## Q8 Why is eggs a valid variable name while 100 is invalid?\n",
    "\n",
    "Answer:\n",
    "       As per python guide line in identifier or variable name cannot have number in the start of name, special character in the variable name, i.e. why egg correct name and 100 is not as it starts with numbers."
   ]
  },
  {
   "cell_type": "markdown",
   "id": "c0c2b802-c8f2-45d5-bf92-719880f2120a",
   "metadata": {
    "id": "c0c2b802-c8f2-45d5-bf92-719880f2120a"
   },
   "source": [
    "                    "
   ]
  },
  {
   "cell_type": "markdown",
   "id": "c34d9acc-7751-4a83-8e09-416cd28b73d8",
   "metadata": {
    "id": "c34d9acc-7751-4a83-8e09-416cd28b73d8"
   },
   "source": [
    " "
   ]
  },
  {
   "cell_type": "markdown",
   "id": "9b796bf1-fb72-497e-89fa-c00fbb15e5f7",
   "metadata": {
    "id": "9b796bf1-fb72-497e-89fa-c00fbb15e5f7"
   },
   "source": [
    "## Q9 What three functions can be used to get the integer, floating-point number, or string version of a value?\n",
    "\n",
    "Answer: \n",
    "     1. integer = int()\n",
    "     2. floating-poin = float()\n",
    "     3. string = str()\n"
   ]
  },
  {
   "cell_type": "code",
   "execution_count": null,
   "id": "dfe16690-7fdb-4308-b14b-bd82fa21cf7d",
   "metadata": {
    "id": "dfe16690-7fdb-4308-b14b-bd82fa21cf7d",
    "outputId": "d46f5c70-7817-439e-fc0a-483fe16ec1c4"
   },
   "outputs": [
    {
     "name": "stdout",
     "output_type": "stream",
     "text": [
      "<class 'int'>\n",
      "<class 'float'>\n",
      "<class 'str'>\n"
     ]
    }
   ],
   "source": [
    "a=int(2)\n",
    "print(type(a))\n",
    "a=float(a)\n",
    "print(type(a))\n",
    "a=str(a)\n",
    "print(type(a))"
   ]
  },
  {
   "cell_type": "markdown",
   "id": "97fb2e1e-3102-40f5-9877-00481d07dd91",
   "metadata": {
    "id": "97fb2e1e-3102-40f5-9877-00481d07dd91"
   },
   "source": [
    "## "
   ]
  },
  {
   "cell_type": "markdown",
   "id": "c1307f0e-87f3-4c74-b227-f8361c7e9306",
   "metadata": {
    "id": "c1307f0e-87f3-4c74-b227-f8361c7e9306"
   },
   "source": [
    "## "
   ]
  },
  {
   "cell_type": "markdown",
   "id": "029f2aeb-c86b-4d49-9257-ae6aa6fbd7b7",
   "metadata": {
    "id": "029f2aeb-c86b-4d49-9257-ae6aa6fbd7b7"
   },
   "source": [
    "## Q10 Why does this expression cause an error? How can you fix it?\n",
    "## 'I have eaten ' + 99 + ' burritos.'\n",
    "\n",
    "\n",
    "Answer:\n",
    "    In above expression 99 is a integer and we cannot concatenate string and integer, To fix the function we can convert 99 to string"
   ]
  },
  {
   "cell_type": "code",
   "execution_count": null,
   "id": "0f861f65-b87b-4400-a37e-42507059578e",
   "metadata": {
    "id": "0f861f65-b87b-4400-a37e-42507059578e",
    "outputId": "33914f15-8778-41f0-e674-16c360fe7b3f"
   },
   "outputs": [
    {
     "data": {
      "text/plain": [
       "'I have eaten 99 burritos'"
      ]
     },
     "execution_count": 14,
     "metadata": {},
     "output_type": "execute_result"
    }
   ],
   "source": [
    "'I have eaten '+'99'+' burritos'"
   ]
  },
  {
   "cell_type": "code",
   "execution_count": null,
   "id": "ec2cdea1-e840-4d5e-b450-f7e87a1f76c6",
   "metadata": {
    "id": "ec2cdea1-e840-4d5e-b450-f7e87a1f76c6"
   },
   "outputs": [],
   "source": []
  }
 ],
 "metadata": {
  "colab": {
   "provenance": []
  },
  "kernelspec": {
   "display_name": "Python 3 (ipykernel)",
   "language": "python",
   "name": "python3"
  },
  "language_info": {
   "codemirror_mode": {
    "name": "ipython",
    "version": 3
   },
   "file_extension": ".py",
   "mimetype": "text/x-python",
   "name": "python",
   "nbconvert_exporter": "python",
   "pygments_lexer": "ipython3",
   "version": "3.10.9"
  }
 },
 "nbformat": 4,
 "nbformat_minor": 5
}
