{
 "cells": [
  {
   "cell_type": "markdown",
   "id": "081a2ede-9634-4cd3-bf70-e05bc49b2fbe",
   "metadata": {},
   "source": [
    "## Q1. What are keywords in python? Using the keyword library, print all the python keywords.\n",
    "\n",
    "Answer: Keywords in python are the reserved words which are functions used in python.\n",
    "Keywords in Python are reserved words that cannot be used as ordinary identifiers. They are used to define the syntax and structure of the Python language."
   ]
  },
  {
   "cell_type": "code",
   "execution_count": 5,
   "id": "c66b160c-c5b3-4535-b3ab-522e3f2bdb5d",
   "metadata": {},
   "outputs": [
    {
     "name": "stdout",
     "output_type": "stream",
     "text": [
      "['False', 'None', 'True', 'and', 'as', 'assert', 'async', 'await', 'break', 'class', 'continue', 'def', 'del', 'elif', 'else', 'except', 'finally', 'for', 'from', 'global', 'if', 'import', 'in', 'is', 'lambda', 'nonlocal', 'not', 'or', 'pass', 'raise', 'return', 'try', 'while', 'with', 'yield']\n"
     ]
    }
   ],
   "source": [
    "import keyword\n",
    "\n",
    "print(keyword.kwlist)"
   ]
  },
  {
   "cell_type": "markdown",
   "id": "4672171d-4636-4a96-acdf-22f46943a2b9",
   "metadata": {},
   "source": [
    "## Q2. What are the rules to create variables in python?\n",
    "\n",
    "Answer:\n",
    "\n",
    "Variables are the  name location where data is store in memory\n",
    "\n",
    "Rules to create variable:\n",
    "\n",
    "* variable name can contain letters from a-z, A-Z, 0-9 & (_)\n",
    "* name cannot start with number \n",
    "* Keywords or reserved words cannot be used for name\n",
    "* there is no limit on length\n",
    "* if we want private variable we need to add '_'(underscore).\n",
    "* Non-ASCII letters can be used in variable name."
   ]
  },
  {
   "cell_type": "markdown",
   "id": "281f004a-8b81-428f-8bbc-58251fcb8198",
   "metadata": {},
   "source": [
    "## Q3. What are the standards and conventions followed for the nomenclature of variables in python to improve code readability and maintainability?\n",
    "\n",
    "Answer: \n",
    "\n",
    "* "
   ]
  },
  {
   "cell_type": "code",
   "execution_count": null,
   "id": "b3eba11f-99d7-4126-9589-e7928cbe802a",
   "metadata": {},
   "outputs": [],
   "source": []
  }
 ],
 "metadata": {
  "kernelspec": {
   "display_name": "Python 3 (ipykernel)",
   "language": "python",
   "name": "python3"
  },
  "language_info": {
   "codemirror_mode": {
    "name": "ipython",
    "version": 3
   },
   "file_extension": ".py",
   "mimetype": "text/x-python",
   "name": "python",
   "nbconvert_exporter": "python",
   "pygments_lexer": "ipython3",
   "version": "3.10.9"
  }
 },
 "nbformat": 4,
 "nbformat_minor": 5
}
