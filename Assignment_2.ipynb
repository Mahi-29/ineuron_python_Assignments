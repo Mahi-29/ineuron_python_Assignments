{
 "cells": [
  {
   "cell_type": "markdown",
   "id": "b0ace612-bcb5-4c79-b5d3-8bdaf0ddbfac",
   "metadata": {},
   "source": [
    "## Q1 .What are the two values of the Boolean data type? How do you write them?\n",
    "\n",
    "Answer: \n",
    "        True and False are two boolean values"
   ]
  },
  {
   "cell_type": "code",
   "execution_count": 1,
   "id": "968a9af9-60e0-4956-809b-7d19cab2f735",
   "metadata": {},
   "outputs": [
    {
     "data": {
      "text/plain": [
       "False"
      ]
     },
     "execution_count": 1,
     "metadata": {},
     "output_type": "execute_result"
    }
   ],
   "source": [
    "# way to write boolean values\n",
    "True\n",
    "False"
   ]
  },
  {
   "cell_type": "markdown",
   "id": "a1ef605d-6ed7-443d-a3bf-083c4e0ba7cc",
   "metadata": {},
   "source": [
    "## "
   ]
  },
  {
   "cell_type": "markdown",
   "id": "c4e9dc5c-f48b-479d-89ab-1ff242b0a679",
   "metadata": {},
   "source": [
    "## Q2 What are the three different types of Boolean operators?\n",
    "\n",
    "Answer:\n",
    "        Different types of boolean operators are 'and', 'or', 'not', 'and not'"
   ]
  },
  {
   "cell_type": "markdown",
   "id": "927e2acd-2a6f-43b1-8934-00776b8767a0",
   "metadata": {},
   "source": [
    "## "
   ]
  },
  {
   "cell_type": "markdown",
   "id": "99442b5f-df0a-4fb6-bf0b-3700a85639bc",
   "metadata": {},
   "source": [
    "## Q3  Make a list of each Boolean operator's truth tables (i.e. every possible combination of Boolean values for the operator and what it evaluate ).\n",
    "\n",
    "------AND table------\n",
    "\n",
    "v1    |   v2  | output\n",
    "\n",
    "True  | True  | True\n",
    "\n",
    "True  | False | False\n",
    "\n",
    "False | True  | False\n",
    "\n",
    "False | False | False\n",
    "\n",
    "------OR Table--------\n",
    "\n",
    "v1    |   v2  | output\n",
    "\n",
    "True  | True  | True\n",
    "\n",
    "True  | False | True\n",
    "\n",
    "False | True  | True\n",
    "\n",
    "False | False | False\n",
    "\n",
    "\n",
    "------NOT-------\n",
    "\n",
    "NOT True = False\n",
    "\n",
    "NOT False = True\n"
   ]
  },
  {
   "cell_type": "markdown",
   "id": "bdec92fc-30f3-4688-b6a3-a81d09c5a5d3",
   "metadata": {},
   "source": [
    "## Q4  What are the values of the following expressions?\n",
    "\n",
    "Answer:\n",
    "\n",
    "1. (5 > 4) and (3 == 5) \n",
    "    \n",
    "    output: False\n",
    "    \n",
    "\n",
    "2. not (5 > 4)\n",
    "    \n",
    "    output: False \n",
    "\n",
    "\n",
    "3. (5 > 4) or (3 == 5)\n",
    "    \n",
    "    output: True\n",
    "    \n",
    "\n",
    "4. not ((5 > 4) or (3 == 5))\n",
    "    \n",
    "    output: False\n",
    "    \n",
    "\n",
    "5. (True and True) and (True == False)\n",
    "    \n",
    "    Output: False\n",
    "\n",
    "\n",
    "6. (not False) or (not True)\n",
    "    \n",
    "    Output: True\n",
    "\n"
   ]
  },
  {
   "cell_type": "markdown",
   "id": "5980614f-e164-4098-a458-6d1477c2802c",
   "metadata": {},
   "source": [
    "## Q5 What are the six comparison operators?\n",
    "\n",
    "Answer:\n",
    "\n",
    "1. '>'\n",
    "2. '<'\n",
    "3. '<='\n",
    "4. '>='\n",
    "5. '=='\n",
    "6. '!='"
   ]
  },
  {
   "cell_type": "markdown",
   "id": "e31b97ea-f788-40b9-906c-00833b8aa4ff",
   "metadata": {},
   "source": [
    "## Q6 How do you tell the difference between the equal to and assignment operators?Describe a condition and when you would use one.\n",
    "\n",
    "Answer:\n",
    "\n",
    "Equal to and assignment operators have key difference in their syntax as given below,\n",
    "\n",
    "Equal to operator: '=='\n",
    "\n",
    "Assignment operator: '='\n",
    "\n",
    "* Assignment operator used when we want to assign value to a variable as shoun below\n",
    "\n",
    "a=4\n",
    "b=6\n",
    "\n",
    "* Equal to operator will be used to compare if two variable are equal or not as shown below\n",
    "\n",
    "'a==b' This will give us the boolean output.\n",
    "\n"
   ]
  },
  {
   "cell_type": "markdown",
   "id": "e5e06a8d-598b-4481-9cd9-a3554d040f9d",
   "metadata": {},
   "source": [
    "## Q7 identify the three blocks in this code: identify the three blocks in this code:\n",
    "\"\"\"\n",
    "spam = 0\n",
    "\n",
    "if spam == 10:\n",
    "\n",
    "print('eggs')\n",
    "\n",
    "if spam > 5:\n",
    "\n",
    "print('bacon')\n",
    "\n",
    "else:\n",
    "\n",
    "print('ham')\n",
    "\n",
    "print('spam')\n",
    "\n",
    "print('spam')\"\"\""
   ]
  },
  {
   "cell_type": "code",
   "execution_count": 3,
   "id": "4a8dd9a6-8f78-4c50-9a91-b6a976b0fe1c",
   "metadata": {},
   "outputs": [
    {
     "name": "stdout",
     "output_type": "stream",
     "text": [
      "ham\n",
      "spam\n",
      "spam\n"
     ]
    }
   ],
   "source": [
    "#Answer:\n",
    "spam = 0\n",
    "if spam == 10:\n",
    "    print('eggs')\n",
    "if spam > 5:\n",
    "    print('bacon')\n",
    "else:\n",
    "    print('ham')\n",
    "print('spam')\n",
    "print('spam')"
   ]
  },
  {
   "cell_type": "markdown",
   "id": "d3079965-e2fa-4009-86b7-c513c5ac11f7",
   "metadata": {},
   "source": [
    "## Q8 Write code that prints Hello if 1 is stored in spam, prints Howdy if 2 is stored in spam, and prints Greetings! if anything else is stored in spam."
   ]
  },
  {
   "cell_type": "code",
   "execution_count": 4,
   "id": "a592ca39-144f-487d-a1b9-6c4a20bf1257",
   "metadata": {},
   "outputs": [
    {
     "name": "stdout",
     "output_type": "stream",
     "text": [
      "Greetings!\n"
     ]
    }
   ],
   "source": [
    "spam = 0\n",
    "if spam == 1:\n",
    "    print(\"Hello\")\n",
    "elif spam == 2:\n",
    "    print(\"Howdy\")\n",
    "else:\n",
    "    print(\"Greetings!\")"
   ]
  },
  {
   "cell_type": "markdown",
   "id": "6ad76d92-dbe9-46b5-9544-b62d49808c05",
   "metadata": {},
   "source": [
    "## Q9 if your programme is stuck in an endless loop, what keys you’ll press?\n",
    "\n",
    "Answer:\n",
    "    if Program is stuck in endless loop i will press restart kernal key."
   ]
  },
  {
   "cell_type": "markdown",
   "id": "ec2647b2-d55d-41ec-82ca-84e2ce3b8ed2",
   "metadata": {},
   "source": [
    "## Q10  How can you tell the difference between break and continue?\n",
    "\n",
    "Answer:\n",
    "         break and continue are used in loop, if loop encounters break then code will exit the loop at that point. If loop encounters continue in loop than the code after the continue in loop will not be executed and loop will go to next iteration."
   ]
  },
  {
   "cell_type": "markdown",
   "id": "a0d6cbef-70c5-4de5-ac07-828c314490dc",
   "metadata": {},
   "source": [
    "## Q11 In a for loop, what is the difference between range(10), range(0, 10), and range(0, 10, 1)?\n",
    "\n",
    "Answer: \n",
    "        there is no difference in the 3 range mentioned above as these are 3 different ways to write same thing."
   ]
  },
  {
   "cell_type": "markdown",
   "id": "f83469eb-e757-4746-b880-5a5fedde2791",
   "metadata": {},
   "source": [
    "## Q12  Write a short program that prints the numbers 1 to 10 using a for loop. Then write an equivalent program that prints the numbers 1 to 10 using a while loop."
   ]
  },
  {
   "cell_type": "code",
   "execution_count": 6,
   "id": "b4de5f4d-01ff-41fd-9957-cb1585b2fd84",
   "metadata": {},
   "outputs": [
    {
     "name": "stdout",
     "output_type": "stream",
     "text": [
      "For Loop\n",
      "1\n",
      "2\n",
      "3\n",
      "4\n",
      "5\n",
      "6\n",
      "7\n",
      "8\n",
      "9\n",
      "10\n",
      "While loop\n",
      "1\n",
      "2\n",
      "3\n",
      "4\n",
      "5\n",
      "6\n",
      "7\n",
      "8\n",
      "9\n",
      "10\n"
     ]
    }
   ],
   "source": [
    "print(\"For Loop\")\n",
    "for i in range(1,11):\n",
    "    print(i)\n",
    "\n",
    "print(\"While loop\")    \n",
    "j=1   \n",
    "while j<11:\n",
    "    print(j)\n",
    "    j=j+1"
   ]
  },
  {
   "cell_type": "markdown",
   "id": "1fa28565-1b98-4c4d-8fda-048b69f9f3b5",
   "metadata": {},
   "source": [
    "## Q13  If you had a function named bacon() inside a module named spam, how would you call it after importing spam?\n",
    "\n",
    "Answer:\n",
    "\n",
    "\n",
    "import spam\n",
    "\n",
    "spam.bacon()"
   ]
  }
 ],
 "metadata": {
  "kernelspec": {
   "display_name": "Python 3 (ipykernel)",
   "language": "python",
   "name": "python3"
  },
  "language_info": {
   "codemirror_mode": {
    "name": "ipython",
    "version": 3
   },
   "file_extension": ".py",
   "mimetype": "text/x-python",
   "name": "python",
   "nbconvert_exporter": "python",
   "pygments_lexer": "ipython3",
   "version": "3.10.9"
  }
 },
 "nbformat": 4,
 "nbformat_minor": 5
}
