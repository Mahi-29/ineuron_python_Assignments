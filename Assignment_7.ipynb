{
 "cells": [
  {
   "cell_type": "markdown",
   "id": "54a780fd-df2a-4262-827c-e3f11623f716",
   "metadata": {},
   "source": [
    "## Q1. Create two int type variables, apply addition, subtraction, division and multiplications\n",
    "and store the results in variables. Then print the data in the following format by calling the\n",
    "variables:\n",
    "First variable is __ & second variable is __.\n",
    "Addition: __ + __ = __\n",
    "Subtraction: __ - __ = __\n",
    "Multiplication: __ * __ = __\n",
    "Division: __ / __ = __ "
   ]
  },
  {
   "cell_type": "code",
   "execution_count": 3,
   "id": "aca4e3ef-9337-43f9-adac-3a51d0d8b1ed",
   "metadata": {},
   "outputs": [
    {
     "name": "stdout",
     "output_type": "stream",
     "text": [
      "First variable is 12 & second variable is 4. \n",
      "Addition: 12 + 4 = 16 \n",
      "Subtraction: 12 - 4 = 8 \n",
      "Multiplication: 12 * 4 = 48\n",
      "Division: 12 / 4 = 3.0\n"
     ]
    }
   ],
   "source": [
    "num1 = 12\n",
    "num2 = 4\n",
    "addition = num1 + num2\n",
    "substraction = num1 - num2\n",
    "multiplication = num1 * num2\n",
    "division = num1 / num2\n",
    "\n",
    "print(f\"First variable is {num1} & second variable is {num2}. \")\n",
    "print(f\"Addition: {num1} + {num2} = {addition} \")\n",
    "print(f\"Subtraction: {num1} - {num2} = {substraction} \")\n",
    "print(f\"Multiplication: {num1} * {num2} = {multiplication}\")\n",
    "print(f\"Division: {num1} / {num2} = {division}\")"
   ]
  },
  {
   "cell_type": "markdown",
   "id": "7565b4be-04d5-4c95-83ad-d3512eb887a9",
   "metadata": {},
   "source": [
    "## Q3. What is the difference between the following operators:\n",
    "(i) ‘/’ & ‘//’\n",
    "\n",
    "(ii) ‘**’ & ‘^’ \n",
    "\n",
    "Answer:\n",
    "\n",
    "i) '/' is a division oprator and '//' this is a floor division oprator division will give the output as float number but floor division operator will give nearest possible intiger\n",
    "\n",
    "ii) \"**\" this oprator used to get power of number as shown below and (\"^\") XOR oprator Sets each bit to 1 if only one of two bits is 1"
   ]
  },
  {
   "cell_type": "code",
   "execution_count": 10,
   "id": "2e3ac5e4-3718-4208-8c1e-23adb447541b",
   "metadata": {},
   "outputs": [
    {
     "name": "stdout",
     "output_type": "stream",
     "text": [
      "24.0\n",
      "626020\n",
      "144\n",
      "15\n"
     ]
    }
   ],
   "source": [
    "print(120/5)\n",
    "print(1252041//2)\n",
    "print(12**2)\n",
    "print(12^3)"
   ]
  },
  {
   "cell_type": "markdown",
   "id": "1760eda3-09c1-43c9-9f01-ae3c874ae285",
   "metadata": {},
   "source": [
    "## Q3. List the logical operators.\n",
    "\n",
    "Answer:\n",
    "\n",
    "list of logical oprators:\n",
    "\n",
    "1) and : \tReturns True if both statements are true \n",
    "2) or  :    Returns True if one of statement is true \n",
    "3) not :    Reverse the result, returns False if the result is true"
   ]
  },
  {
   "cell_type": "markdown",
   "id": "1310a88d-fa38-48d5-bb0f-45985d45598f",
   "metadata": {},
   "source": [
    "## Q4. Explain right shift operator and left shift operator with examples.\n",
    "\n",
    "Answer: right  shift operator will bits of number to right and left most bit will fall off and this operator is represented as \">>\"\n"
   ]
  },
  {
   "cell_type": "code",
   "execution_count": 11,
   "id": "f12a57c4-8af0-40c3-a559-334d2cfb2b01",
   "metadata": {},
   "outputs": [
    {
     "name": "stdout",
     "output_type": "stream",
     "text": [
      "2\n"
     ]
    }
   ],
   "source": [
    "n = 10\n",
    "x = n>>2\n",
    "# means bits will be shifted to 2 positions right\n",
    "print(x)"
   ]
  },
  {
   "cell_type": "markdown",
   "id": "0941207b-6a32-42d0-8c21-32dd0cecb340",
   "metadata": {},
   "source": [
    "## Q5. Create a list containing int type data of length 15. Then write a code to check if 10 is present in the list or not. \n"
   ]
  },
  {
   "cell_type": "code",
   "execution_count": 14,
   "id": "7567e156-ceb9-493f-a9e6-5f37e8eb3906",
   "metadata": {},
   "outputs": [
    {
     "name": "stdout",
     "output_type": "stream",
     "text": [
      "[0, 1, 2, 3, 4, 5, 6, 7, 8, 9, 10, 11, 12, 13, 14]\n",
      "True\n",
      "10 is present in list\n"
     ]
    }
   ],
   "source": [
    "l = []\n",
    "for i in range(15):\n",
    "    l.append(i)\n",
    "\n",
    "print(l)\n",
    "print(10 in l)\n",
    "if 10 in l:\n",
    "    print(\"10 is present in list\")\n",
    "else:\n",
    "    print(\"10 is not present in list\")"
   ]
  },
  {
   "cell_type": "code",
   "execution_count": null,
   "id": "4e0968e3-ad5c-401d-b42d-923f3a116019",
   "metadata": {},
   "outputs": [],
   "source": []
  }
 ],
 "metadata": {
  "kernelspec": {
   "display_name": "Python 3 (ipykernel)",
   "language": "python",
   "name": "python3"
  },
  "language_info": {
   "codemirror_mode": {
    "name": "ipython",
    "version": 3
   },
   "file_extension": ".py",
   "mimetype": "text/x-python",
   "name": "python",
   "nbconvert_exporter": "python",
   "pygments_lexer": "ipython3",
   "version": "3.10.9"
  }
 },
 "nbformat": 4,
 "nbformat_minor": 5
}
