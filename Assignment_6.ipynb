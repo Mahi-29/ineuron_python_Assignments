{
 "cells": [
  {
   "cell_type": "markdown",
   "id": "081a2ede-9634-4cd3-bf70-e05bc49b2fbe",
   "metadata": {},
   "source": [
    "## Q1. What are keywords in python? Using the keyword library, print all the python keywords.\n",
    "\n",
    "Answer: Keywords in python are the reserved words which are functions used in python.\n",
    "Keywords in Python are reserved words that cannot be used as ordinary identifiers. They are used to define the syntax and structure of the Python language."
   ]
  },
  {
   "cell_type": "code",
   "execution_count": 5,
   "id": "c66b160c-c5b3-4535-b3ab-522e3f2bdb5d",
   "metadata": {},
   "outputs": [
    {
     "name": "stdout",
     "output_type": "stream",
     "text": [
      "['False', 'None', 'True', 'and', 'as', 'assert', 'async', 'await', 'break', 'class', 'continue', 'def', 'del', 'elif', 'else', 'except', 'finally', 'for', 'from', 'global', 'if', 'import', 'in', 'is', 'lambda', 'nonlocal', 'not', 'or', 'pass', 'raise', 'return', 'try', 'while', 'with', 'yield']\n"
     ]
    }
   ],
   "source": [
    "import keyword\n",
    "\n",
    "print(keyword.kwlist)"
   ]
  },
  {
   "cell_type": "markdown",
   "id": "4672171d-4636-4a96-acdf-22f46943a2b9",
   "metadata": {},
   "source": [
    "## Q2. What are the rules to create variables in python?\n",
    "\n",
    "Answer:\n",
    "\n",
    "Variables are the  name location where data is store in memory\n",
    "\n",
    "Rules to create variable:\n",
    "\n",
    "* variable name can contain letters from a-z, A-Z, 0-9 & (_)\n",
    "* name cannot start with number \n",
    "* Keywords or reserved words cannot be used for name\n",
    "* there is no limit on length\n",
    "* if we want private variable we need to add '_'(underscore).\n",
    "* Non-ASCII letters can be used in variable name."
   ]
  },
  {
   "cell_type": "markdown",
   "id": "281f004a-8b81-428f-8bbc-58251fcb8198",
   "metadata": {},
   "source": [
    "## Q3. What are the standards and conventions followed for the nomenclature of variables in python to improve code readability and maintainability?\n",
    "\n",
    "Answer: \n",
    "\n",
    "* Variable name cannot be any keyword in python.\n",
    "* while using python need to keep in mind that python is a case sensative language\n",
    "* variable name should "
   ]
  },
  {
   "cell_type": "markdown",
   "id": "37e57a34-1479-49a9-b44d-b6dd03cc7a8f",
   "metadata": {},
   "source": [
    "## Q4. What will happen if a keyword is used as a variable name? \n",
    "\n",
    "Answer: if we try to use keyword for the variable name python will give us invalid syntax error. as show in below example.\n"
   ]
  },
  {
   "cell_type": "code",
   "execution_count": 3,
   "id": "2bc9eee3-1285-48e1-8f88-30b6c749eb6b",
   "metadata": {},
   "outputs": [
    {
     "ename": "SyntaxError",
     "evalue": "invalid syntax (1665019160.py, line 1)",
     "output_type": "error",
     "traceback": [
      "\u001b[0;36m  Cell \u001b[0;32mIn[3], line 1\u001b[0;36m\u001b[0m\n\u001b[0;31m    if  = 10\u001b[0m\n\u001b[0m        ^\u001b[0m\n\u001b[0;31mSyntaxError\u001b[0m\u001b[0;31m:\u001b[0m invalid syntax\n"
     ]
    }
   ],
   "source": [
    "if  = 10"
   ]
  },
  {
   "cell_type": "markdown",
   "id": "3bc5ea87-2275-4ab7-8ad3-7c995fcfd618",
   "metadata": {},
   "source": [
    "## Q5. For what purpose def keyword is used?\n",
    "\n",
    "Answer: \"def\" key word is used to define function. "
   ]
  },
  {
   "cell_type": "code",
   "execution_count": 4,
   "id": "2662fb5c-c11c-4665-857e-eafd17af4dff",
   "metadata": {},
   "outputs": [
    {
     "name": "stdout",
     "output_type": "stream",
     "text": [
      "this is a function\n"
     ]
    }
   ],
   "source": [
    "def testfun():\n",
    "    print(\"this is a function\")\n",
    "testfun()"
   ]
  },
  {
   "cell_type": "markdown",
   "id": "9c402a16-bec1-4569-8bec-c7ed956dd1e3",
   "metadata": {},
   "source": [
    "## Q6. What is the operation of this special character ‘\\’?\n",
    "\n",
    "Answer: \"\\\" character is used to convert special character to normal character also can be used as to add certain white space chatacter e.g. \\n for new line, \\t for tab in a string as shown below"
   ]
  },
  {
   "cell_type": "code",
   "execution_count": 9,
   "id": "cee5cad6-567f-4f14-9efd-f0179b591de3",
   "metadata": {},
   "outputs": [
    {
     "name": "stdout",
     "output_type": "stream",
     "text": [
      "hello \n",
      "coder\n"
     ]
    }
   ],
   "source": [
    "print(\"hello \\ncoder\")"
   ]
  },
  {
   "cell_type": "markdown",
   "id": "79ba360a-590b-4b8c-a2a7-53b7505ef97a",
   "metadata": {},
   "source": [
    "## Q7. Give an example of the following conditions:\n",
    "* Homogeneous list\n",
    "* Heterogeneous set\n",
    "* Homogeneous tuple "
   ]
  },
  {
   "cell_type": "code",
   "execution_count": 14,
   "id": "7ee20826-3916-49ef-b023-5cb180e9fc5f",
   "metadata": {},
   "outputs": [
    {
     "name": "stdout",
     "output_type": "stream",
     "text": [
      "Homogeneous list: [1, 2, 3, 4, 5]\n",
      "Heterogeneous set: {1, 'test', 2}\n",
      "Homogeneous tuple: ('test', 'tuple')\n"
     ]
    },
    {
     "ename": "TypeError",
     "evalue": "'set' object does not support item assignment",
     "output_type": "error",
     "traceback": [
      "\u001b[0;31m---------------------------------------------------------------------------\u001b[0m",
      "\u001b[0;31mTypeError\u001b[0m                                 Traceback (most recent call last)",
      "Cell \u001b[0;32mIn[14], line 10\u001b[0m\n\u001b[1;32m      8\u001b[0m t \u001b[38;5;241m=\u001b[39m (\u001b[38;5;124m\"\u001b[39m\u001b[38;5;124mtest\u001b[39m\u001b[38;5;124m\"\u001b[39m, \u001b[38;5;124m\"\u001b[39m\u001b[38;5;124mtuple\u001b[39m\u001b[38;5;124m\"\u001b[39m)\n\u001b[1;32m      9\u001b[0m \u001b[38;5;28mprint\u001b[39m(\u001b[38;5;124m\"\u001b[39m\u001b[38;5;124mHomogeneous tuple:\u001b[39m\u001b[38;5;124m\"\u001b[39m, t)\n\u001b[0;32m---> 10\u001b[0m s[\u001b[38;5;241m2\u001b[39m]\u001b[38;5;241m=\u001b[39m\u001b[38;5;241m10\u001b[39m\n\u001b[1;32m     11\u001b[0m s\n",
      "\u001b[0;31mTypeError\u001b[0m: 'set' object does not support item assignment"
     ]
    }
   ],
   "source": [
    "# Homogeneous list\n",
    "l = [1,2,3,4,5]\n",
    "print(\"Homogeneous list:\",l)\n",
    "# Heterogeneous set\n",
    "s = {1,\"test\", 2}\n",
    "print(\"Heterogeneous set:\", s)\n",
    "# Homogeneous tuple\n",
    "t = (\"test\", \"tuple\")\n",
    "print(\"Homogeneous tuple:\", t)\n"
   ]
  },
  {
   "cell_type": "markdown",
   "id": "6716d95f-4329-4fca-b253-3919839a497e",
   "metadata": {},
   "source": [
    "## Q8. Explain the mutable and immutable data types with proper explanation & examples.\n",
    "\n",
    "Answer: Mutable:- mutable object means we can add, edit, delete the elements of created object for e.g. list, dictionary\n",
    "\n",
    "Immutable :- immutable object means  once object is created we cannot add, edit, delete of created object for e.g. strings, tuples\n"
   ]
  },
  {
   "cell_type": "code",
   "execution_count": 16,
   "id": "6868a97a-2998-4cbd-94ac-95b1232e0380",
   "metadata": {},
   "outputs": [
    {
     "name": "stdout",
     "output_type": "stream",
     "text": [
      "[1, 2, 3, 4]\n",
      "[1, 2, 12, 4]\n",
      "[1, 2, 12, 4, 58]\n"
     ]
    }
   ],
   "source": [
    "# Mutable object example\n",
    "l = [1,2,3,4,5]\n",
    "l.pop()\n",
    "print(l)\n",
    "l[2] = 12\n",
    "print(l)\n",
    "l.append(58)\n",
    "print(l)"
   ]
  },
  {
   "cell_type": "code",
   "execution_count": 17,
   "id": "0926d829-eeca-4b90-9524-8d934309aa19",
   "metadata": {},
   "outputs": [
    {
     "ename": "TypeError",
     "evalue": "'tuple' object does not support item assignment",
     "output_type": "error",
     "traceback": [
      "\u001b[0;31m---------------------------------------------------------------------------\u001b[0m",
      "\u001b[0;31mTypeError\u001b[0m                                 Traceback (most recent call last)",
      "Cell \u001b[0;32mIn[17], line 3\u001b[0m\n\u001b[1;32m      1\u001b[0m \u001b[38;5;66;03m# immutable object\u001b[39;00m\n\u001b[1;32m      2\u001b[0m t \u001b[38;5;241m=\u001b[39m (\u001b[38;5;241m1\u001b[39m,\u001b[38;5;241m2\u001b[39m,\u001b[38;5;124m\"\u001b[39m\u001b[38;5;124mtest\u001b[39m\u001b[38;5;124m\"\u001b[39m)\n\u001b[0;32m----> 3\u001b[0m t[\u001b[38;5;241m1\u001b[39m] \u001b[38;5;241m=\u001b[39m \u001b[38;5;124m'\u001b[39m\u001b[38;5;124mwill not work\u001b[39m\u001b[38;5;124m'\u001b[39m\n",
      "\u001b[0;31mTypeError\u001b[0m: 'tuple' object does not support item assignment"
     ]
    }
   ],
   "source": [
    "# immutable object\n",
    "t = (1,2,\"test\")\n",
    "t[1] = 'will not work' "
   ]
  },
  {
   "cell_type": "markdown",
   "id": "189db36f-57a5-410a-a0d5-711f20857669",
   "metadata": {},
   "source": [
    "## Q9. Write a code to create the given structure using only for loop.\n"
   ]
  },
  {
   "cell_type": "raw",
   "id": "ea3237aa-fb36-479a-9377-f245ec8317a8",
   "metadata": {},
   "source": [
    "    *\n",
    "    \n",
    "   ***\n",
    "   \n",
    "  *****\n",
    "  \n",
    " *******\n",
    " \n",
    "********* "
   ]
  },
  {
   "cell_type": "code",
   "execution_count": 22,
   "id": "0c14aac8-e1a1-484f-9fe2-51d8a7aff183",
   "metadata": {},
   "outputs": [
    {
     "name": "stdin",
     "output_type": "stream",
     "text": [
      "enter number of rows: 5\n"
     ]
    },
    {
     "name": "stdout",
     "output_type": "stream",
     "text": [
      "    *\n",
      "   ***\n",
      "  *****\n",
      " *******\n",
      "*********\n"
     ]
    }
   ],
   "source": [
    "n=int(input(\"enter number of rows:\"))\n",
    "for i in range(n):\n",
    "    for j in range(n-i-1):\n",
    "    for l in range(i):\n",
    "        print(\"*\",end='')\n",
    "    print()"
   ]
  },
  {
   "cell_type": "markdown",
   "id": "6eefb4f0-274e-4976-9431-e49f03dfb38c",
   "metadata": {},
   "source": [
    "## Q10. Write a code to create the given structure using while loop.\n"
   ]
  },
  {
   "cell_type": "raw",
   "id": "ddeec1d9-3d63-4a62-adb5-0adde3f219b0",
   "metadata": {},
   "source": [
    "|||||||||\n",
    " \n",
    " |||||||\n",
    " \n",
    "  |||||\n",
    "   \n",
    "   |||\n",
    "    \n",
    "    |"
   ]
  },
  {
   "cell_type": "code",
   "execution_count": 32,
   "id": "734ec9c7-da5d-49b5-b236-f472fbf0bae3",
   "metadata": {},
   "outputs": [
    {
     "name": "stdout",
     "output_type": "stream",
     "text": [
      "| | | | | | | | | \n",
      "  | | | | | | | \n",
      "    | | | | | \n",
      "      | | | \n",
      "        | \n"
     ]
    }
   ],
   "source": [
    "n=5\n",
    "for i in range(n):\n",
    "    for j in range(i):\n",
    "        print(\" \", end=' ')\n",
    "    for  k in range((n-i)*2-1):\n",
    "        print(\"|\", end=' ')\n",
    "    \n",
    "    print()\n",
    "    "
   ]
  }
 ],
 "metadata": {
  "kernelspec": {
   "display_name": "Python 3 (ipykernel)",
   "language": "python",
   "name": "python3"
  },
  "language_info": {
   "codemirror_mode": {
    "name": "ipython",
    "version": 3
   },
   "file_extension": ".py",
   "mimetype": "text/x-python",
   "name": "python",
   "nbconvert_exporter": "python",
   "pygments_lexer": "ipython3",
   "version": "3.10.9"
  }
 },
 "nbformat": 4,
 "nbformat_minor": 5
}
