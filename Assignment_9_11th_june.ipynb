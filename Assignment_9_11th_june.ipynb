{
 "cells": [
  {
   "cell_type": "markdown",
   "id": "b748fed3-9b08-426d-a7a4-4cad9539ac05",
   "metadata": {},
   "source": [
    "## Q1. What is a lambda function in Python, and how does it differ from a regular function?\n",
    "\n",
    "Answer: Lambda function are one lone functions which are defined with lambda keyword and we can pass any number of arguments to a lambda function but it can only return single expression output unlike normal functions we dont use def keyword to define function also lambda function is a anonomus function (i.e. function wihtout name). Lambda function can be used in the tasks where we need to add two numbers or we want to do a single line opration multiple times in the code we can define labda function for that"
   ]
  },
  {
   "cell_type": "code",
   "execution_count": 1,
   "id": "ab23a7e4-3078-4678-9812-cbe8b7adbd93",
   "metadata": {},
   "outputs": [
    {
     "name": "stdout",
     "output_type": "stream",
     "text": [
      "100\n"
     ]
    },
    {
     "data": {
      "text/plain": [
       "100"
      ]
     },
     "execution_count": 1,
     "metadata": {},
     "output_type": "execute_result"
    }
   ],
   "source": [
    "# example of lambda function\n",
    "t = lambda x : x**2\n",
    "print(t(10))\n",
    "\n",
    "# normal function for same code\n",
    "def square(X):\n",
    "    return X**2\n",
    "square(10)\n"
   ]
  },
  {
   "cell_type": "markdown",
   "id": "94fa6dbb-9121-48a5-a484-1da3bd5809a0",
   "metadata": {},
   "source": [
    " ## Q2. Can a lambda function in Python have multiple arguments? If yes, how can you define and use them?\n",
    "\n",
    "Answer: we can pass multiple values in the lambda function and use them as shown in the below exmple"
   ]
  },
  {
   "cell_type": "code",
   "execution_count": 2,
   "id": "6eeb0b8c-e1a6-44d8-a8fb-3fd9b94c1af1",
   "metadata": {},
   "outputs": [
    {
     "data": {
      "text/plain": [
       "35"
      ]
     },
     "execution_count": 2,
     "metadata": {},
     "output_type": "execute_result"
    }
   ],
   "source": [
    "func = lambda x,y,z : x+y+z\n",
    "func(10,12,13)"
   ]
  },
  {
   "cell_type": "markdown",
   "id": "8c3c7ee3-0f69-4e83-990c-cbfcd687763d",
   "metadata": {},
   "source": [
    "## Q3. How are lambda functions typically used in Python? Provide an example use case. \n",
    "\n",
    "Answer: Lambda function are used for one line expression and simple opraqtions and are genrally used in the filter function for list, or any any other oprations similar to this."
   ]
  },
  {
   "cell_type": "code",
   "execution_count": 4,
   "id": "af4b317c-8233-48e0-ac67-119aa7ee2877",
   "metadata": {},
   "outputs": [
    {
     "data": {
      "text/plain": [
       "[2, 4, 6, 8, 10, 12, 14, 16]"
      ]
     },
     "execution_count": 4,
     "metadata": {},
     "output_type": "execute_result"
    }
   ],
   "source": [
    "# lambda function example\n",
    "l=[1,2,3,4,5,6,7,8,9,10,11,12,13,14,15,16]\n",
    "list(filter(lambda x : x%2==0,l))\n"
   ]
  },
  {
   "cell_type": "code",
   "execution_count": null,
   "id": "9cd1f10e-4f93-4fba-9666-2421b88645a1",
   "metadata": {},
   "outputs": [],
   "source": []
  }
 ],
 "metadata": {
  "kernelspec": {
   "display_name": "Python 3 (ipykernel)",
   "language": "python",
   "name": "python3"
  },
  "language_info": {
   "codemirror_mode": {
    "name": "ipython",
    "version": 3
   },
   "file_extension": ".py",
   "mimetype": "text/x-python",
   "name": "python",
   "nbconvert_exporter": "python",
   "pygments_lexer": "ipython3",
   "version": "3.10.9"
  }
 },
 "nbformat": 4,
 "nbformat_minor": 5
}
