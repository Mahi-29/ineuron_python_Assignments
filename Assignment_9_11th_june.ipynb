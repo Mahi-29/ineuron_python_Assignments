{
 "cells": [
  {
   "cell_type": "markdown",
   "id": "b748fed3-9b08-426d-a7a4-4cad9539ac05",
   "metadata": {},
   "source": [
    "## Q1. What is a lambda function in Python, and how does it differ from a regular function?\n",
    "\n",
    "Answer: Lambda function are one lone functions which are defined with lambda keyword and we can pass any number of arguments to a lambda function but it can only return single expression output unlike normal functions we dont use def keyword to define function also lambda function is a anonomus function (i.e. function wihtout name). Lambda function can be used in the tasks where we need to add two numbers or we want to do a single line opration multiple times in the code we can define labda function for that"
   ]
  },
  {
   "cell_type": "code",
   "execution_count": 1,
   "id": "ab23a7e4-3078-4678-9812-cbe8b7adbd93",
   "metadata": {},
   "outputs": [
    {
     "name": "stdout",
     "output_type": "stream",
     "text": [
      "100\n"
     ]
    },
    {
     "data": {
      "text/plain": [
       "100"
      ]
     },
     "execution_count": 1,
     "metadata": {},
     "output_type": "execute_result"
    }
   ],
   "source": [
    "# example of lambda function\n",
    "t = lambda x : x**2\n",
    "print(t(10))\n",
    "\n",
    "# normal function for same code\n",
    "def square(X):\n",
    "    return X**2\n",
    "square(10)\n"
   ]
  },
  {
   "cell_type": "markdown",
   "id": "94fa6dbb-9121-48a5-a484-1da3bd5809a0",
   "metadata": {},
   "source": [
    " ## Q2. Can a lambda function in Python have multiple arguments? If yes, how can you define and use them?\n",
    "\n",
    "Answer: we can pass multiple values in the lambda function and use them as shown in the below exmple"
   ]
  },
  {
   "cell_type": "code",
   "execution_count": 2,
   "id": "6eeb0b8c-e1a6-44d8-a8fb-3fd9b94c1af1",
   "metadata": {},
   "outputs": [
    {
     "data": {
      "text/plain": [
       "35"
      ]
     },
     "execution_count": 2,
     "metadata": {},
     "output_type": "execute_result"
    }
   ],
   "source": [
    "func = lambda x,y,z : x+y+z\n",
    "func(10,12,13)"
   ]
  },
  {
   "cell_type": "markdown",
   "id": "8c3c7ee3-0f69-4e83-990c-cbfcd687763d",
   "metadata": {},
   "source": [
    "## Q3. How are lambda functions typically used in Python? Provide an example use case. \n",
    "\n",
    "Answer: Lambda function are used for one line expression and simple opraqtions and are genrally used in the filter function for list, or any any other oprations similar to this."
   ]
  },
  {
   "cell_type": "code",
   "execution_count": 4,
   "id": "af4b317c-8233-48e0-ac67-119aa7ee2877",
   "metadata": {},
   "outputs": [
    {
     "data": {
      "text/plain": [
       "[2, 4, 6, 8, 10, 12, 14, 16]"
      ]
     },
     "execution_count": 4,
     "metadata": {},
     "output_type": "execute_result"
    }
   ],
   "source": [
    "# lambda function example\n",
    "l=[1,2,3,4,5,6,7,8,9,10,11,12,13,14,15,16]\n",
    "list(filter(lambda x : x%2==0,l))\n"
   ]
  },
  {
   "cell_type": "markdown",
   "id": "91c94ec4",
   "metadata": {},
   "source": [
    "## Q4. What are the advantages and limitations of lambda functions compared to regular functions in Python? \n",
    "\n",
    "Answer: \n",
    "Advantages are as follows:\n",
    "     \n",
    "    1 Lamba function are one liner compare to normal function where we have to write at least 4 four line code for simple function also.\n",
    "    2 Lambda functions excecutiion time is less compared to normal function.\n",
    "    3 Lambda function will return value automatically.\n",
    "    4 convient if you want to create function for simple logic.\n",
    "Limitations are as follows:\n",
    "    \n",
    "    1 Lambda functions are difficult to understand are these function are define in one line and the is no way to add documentation.\n",
    "    2 Lambda functions reduce the code redeability. \n",
    "    3 Lambda function can have only one return."
   ]
  },
  {
   "cell_type": "markdown",
   "id": "7b982d4a",
   "metadata": {},
   "source": [
    "## Q5 Are lambda functions in Python able to access variables defined outside of their own scope? Explain with an example. \n",
    "\n",
    "Answer:\n",
    "\n"
   ]
  },
  {
   "cell_type": "code",
   "execution_count": 27,
   "id": "3e357285",
   "metadata": {},
   "outputs": [
    {
     "data": {
      "text/plain": [
       "30"
      ]
     },
     "execution_count": 27,
     "metadata": {},
     "output_type": "execute_result"
    }
   ],
   "source": [
    "y=10\n",
    "v = lambda x : x+y \n",
    "v(20)"
   ]
  },
  {
   "cell_type": "markdown",
   "id": "7a467e1a",
   "metadata": {},
   "source": [
    "##  Q6. Write a lambda function to calculate the square of a given number."
   ]
  },
  {
   "cell_type": "code",
   "execution_count": 28,
   "id": "95308144",
   "metadata": {},
   "outputs": [
    {
     "data": {
      "text/plain": [
       "100"
      ]
     },
     "execution_count": 28,
     "metadata": {},
     "output_type": "execute_result"
    }
   ],
   "source": [
    "square = lambda x : x**2\n",
    "square(10)\n"
   ]
  },
  {
   "cell_type": "markdown",
   "id": "5c5871f9",
   "metadata": {},
   "source": [
    "##  Q7. Create a lambda function to find the maximum value in a list of integers."
   ]
  },
  {
   "cell_type": "code",
   "execution_count": 29,
   "id": "808e37f8",
   "metadata": {},
   "outputs": [],
   "source": [
    "maxvalue =lambda l : max(l)"
   ]
  },
  {
   "cell_type": "code",
   "execution_count": 30,
   "id": "f0001996",
   "metadata": {},
   "outputs": [
    {
     "data": {
      "text/plain": [
       "187"
      ]
     },
     "execution_count": 30,
     "metadata": {},
     "output_type": "execute_result"
    }
   ],
   "source": [
    "maxvalue([187,56,120])"
   ]
  },
  {
   "cell_type": "markdown",
   "id": "6da1a8da",
   "metadata": {},
   "source": [
    "## Q8. Implement a lambda function to filter out all the even numbers from a list of integers. "
   ]
  },
  {
   "cell_type": "code",
   "execution_count": 35,
   "id": "215c96a2",
   "metadata": {},
   "outputs": [],
   "source": [
    "evenlist = lambda l : [print(i) if i%2==0 else print() for i in l ]"
   ]
  },
  {
   "cell_type": "code",
   "execution_count": 36,
   "id": "a8bdce78",
   "metadata": {},
   "outputs": [
    {
     "name": "stdout",
     "output_type": "stream",
     "text": [
      "\n",
      "2\n",
      "\n",
      "4\n",
      "\n",
      "6\n",
      "\n",
      "8\n",
      "\n",
      "10\n"
     ]
    },
    {
     "data": {
      "text/plain": [
       "[None, None, None, None, None, None, None, None, None, None]"
      ]
     },
     "execution_count": 36,
     "metadata": {},
     "output_type": "execute_result"
    }
   ],
   "source": [
    "evenlist([1,2,3,4,5,6,7,8,9,10])"
   ]
  },
  {
   "cell_type": "markdown",
   "id": "ffdda90e",
   "metadata": {},
   "source": [
    "## Q9. Write a lambda function to sort a list of strings in ascending order based on the length of each string."
   ]
  },
  {
   "cell_type": "code",
   "execution_count": 37,
   "id": "cc336d8f",
   "metadata": {},
   "outputs": [
    {
     "data": {
      "text/plain": [
       "['test', 'test1', 'test11', 'test111', 'test1111']"
      ]
     },
     "execution_count": 37,
     "metadata": {},
     "output_type": "execute_result"
    }
   ],
   "source": [
    "sortlist = lambda l : sorted(l , key = len)\n",
    "\n",
    "sortlist(['test', 'test1','test11', 'test1111','test111'])"
   ]
  },
  {
   "cell_type": "markdown",
   "id": "c7e555ee",
   "metadata": {},
   "source": [
    "## Q10. Create a lambda function that takes two lists as input and returns a new list containing the common elements between the two lists."
   ]
  },
  {
   "cell_type": "code",
   "execution_count": 52,
   "id": "39d2a68d",
   "metadata": {},
   "outputs": [
    {
     "ename": "SyntaxError",
     "evalue": "invalid syntax (3183838989.py, line 1)",
     "output_type": "error",
     "traceback": [
      "\u001b[0;36m  Cell \u001b[0;32mIn[52], line 1\u001b[0;36m\u001b[0m\n\u001b[0;31m    common_elements = lambda l1, l2 : [i if i in l2 else continue for i in l1]\u001b[0m\n\u001b[0m                                                         ^\u001b[0m\n\u001b[0;31mSyntaxError\u001b[0m\u001b[0;31m:\u001b[0m invalid syntax\n"
     ]
    }
   ],
   "source": [
    "common_elements = lambda l1, l2 : [i if i in l2 else continue for i in l1]\n",
    "\n",
    "common_elements([2,3,451,56,6],[3,4,5,2])"
   ]
  },
  {
   "cell_type": "markdown",
   "id": "9900c6fc",
   "metadata": {},
   "source": [
    "##  Q11. Write a recursive function to calculate the factorial of a given positive integer."
   ]
  },
  {
   "cell_type": "code",
   "execution_count": 57,
   "id": "2c420365",
   "metadata": {},
   "outputs": [
    {
     "data": {
      "text/plain": [
       "30414093201713378043612608166064768844377641568960512000000000000"
      ]
     },
     "execution_count": 57,
     "metadata": {},
     "output_type": "execute_result"
    }
   ],
   "source": [
    "factorial = lambda x : x if x == 1 else x*factorial(x-1)\n",
    "\n",
    "factorial(50)"
   ]
  },
  {
   "cell_type": "markdown",
   "id": "3e03164a",
   "metadata": {},
   "source": [
    "## Q12. Implement a recursive function to compute the nth Fibonacci number."
   ]
  },
  {
   "cell_type": "code",
   "execution_count": 59,
   "id": "4e5a461f",
   "metadata": {},
   "outputs": [],
   "source": [
    "def febonachiseries(n):\n",
    "    if n == 0 :\n",
    "        return 0\n",
    "    if n == 1 :\n",
    "        return n\n",
    "    feb = n + febonachiseries(n-1)\n",
    "    return feb"
   ]
  },
  {
   "cell_type": "code",
   "execution_count": null,
   "id": "3d5d5b26",
   "metadata": {},
   "outputs": [],
   "source": []
  }
 ],
 "metadata": {
  "kernelspec": {
   "display_name": "Python 3 (ipykernel)",
   "language": "python",
   "name": "python3"
  },
  "language_info": {
   "codemirror_mode": {
    "name": "ipython",
    "version": 3
   },
   "file_extension": ".py",
   "mimetype": "text/x-python",
   "name": "python",
   "nbconvert_exporter": "python",
   "pygments_lexer": "ipython3",
   "version": "3.10.6"
  }
 },
 "nbformat": 4,
 "nbformat_minor": 5
}
