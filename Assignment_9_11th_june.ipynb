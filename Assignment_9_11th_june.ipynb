{
 "cells": [
  {
   "cell_type": "markdown",
   "id": "b748fed3-9b08-426d-a7a4-4cad9539ac05",
   "metadata": {},
   "source": [
    "## Q1. What is a lambda function in Python, and how does it differ from a regular function?\n",
    "\n",
    "Answer: Lambda function are one lone functions which are defined with lambda keyword and we can pass any number of arguments to a lambda function but it can only return single expression output unlike normal functions we dont use def keyword to define function also lambda function is a anonomus function (i.e. function wihtout name). Lambda function can be used in the tasks where we need to add two numbers or we want to do a single line opration multiple times in the code we can define labda function for that"
   ]
  },
  {
   "cell_type": "code",
   "execution_count": 1,
   "id": "ab23a7e4-3078-4678-9812-cbe8b7adbd93",
   "metadata": {},
   "outputs": [
    {
     "name": "stdout",
     "output_type": "stream",
     "text": [
      "100\n"
     ]
    },
    {
     "data": {
      "text/plain": [
       "100"
      ]
     },
     "execution_count": 1,
     "metadata": {},
     "output_type": "execute_result"
    }
   ],
   "source": [
    "# example of lambda function\n",
    "t = lambda x : x**2\n",
    "print(t(10))\n",
    "\n",
    "# normal function for same code\n",
    "def square(X):\n",
    "    return X**2\n",
    "square(10)\n"
   ]
  },
  {
   "cell_type": "markdown",
   "id": "94fa6dbb-9121-48a5-a484-1da3bd5809a0",
   "metadata": {},
   "source": [
    " ## Q2. Can a lambda function in Python have multiple arguments? If yes, how can you define and use them?\n",
    "\n",
    "Answer: we can pass multiple values in the lambda function and use them as shown in the below exmple"
   ]
  },
  {
   "cell_type": "code",
   "execution_count": 2,
   "id": "6eeb0b8c-e1a6-44d8-a8fb-3fd9b94c1af1",
   "metadata": {},
   "outputs": [
    {
     "data": {
      "text/plain": [
       "35"
      ]
     },
     "execution_count": 2,
     "metadata": {},
     "output_type": "execute_result"
    }
   ],
   "source": [
    "func = lambda x,y,z : x+y+z\n",
    "func(10,12,13)"
   ]
  },
  {
   "cell_type": "markdown",
   "id": "8c3c7ee3-0f69-4e83-990c-cbfcd687763d",
   "metadata": {},
   "source": [
    "## Q3. How are lambda functions typically used in Python? Provide an example use case. \n",
    "\n",
    "Answer: Lambda function are used for one line expression and simple opraqtions and are genrally used in the filter function for list, or any any other oprations similar to this."
   ]
  },
  {
   "cell_type": "code",
   "execution_count": 4,
   "id": "af4b317c-8233-48e0-ac67-119aa7ee2877",
   "metadata": {},
   "outputs": [
    {
     "data": {
      "text/plain": [
       "[2, 4, 6, 8, 10, 12, 14, 16]"
      ]
     },
     "execution_count": 4,
     "metadata": {},
     "output_type": "execute_result"
    }
   ],
   "source": [
    "# lambda function example\n",
    "l=[1,2,3,4,5,6,7,8,9,10,11,12,13,14,15,16]\n",
    "list(filter(lambda x : x%2==0,l))\n"
   ]
  },
  {
   "cell_type": "markdown",
   "id": "35adc47c",
   "metadata": {},
   "source": [
    "## Q4. What are the advantages and limitations of lambda functions compared to regular functions in Python?\n",
    "\n",
    "Answer: \n",
    "    Advantages of lambda function:\n",
    "\n",
    "    1. lambda function are one line function which are generally written for small application to reduce the lines of code.\n",
    "    2. lambda functions are anonymous, they don't need a name, which can be beneficial when you only need a function for a specific task or a one-time use.\n",
    "    3. functions can be used as data, allowing them to be passed as arguments to higher-order functions like map, filter, and reduce.\n",
    "\n",
    "    Disadvantages of lambda function:\n",
    "    \n",
    "    1. As lambda function does not require the name because of that reusability of a function is reduced greatly.\n",
    "    2.  lambda functions has no descriptive name and docstring, making it harder for other developers to understand their purpose and usage. \n",
    "    3. When an error occurs within a lambda function, the error message might not provide helpful information about the problematic line, as lambda functions don't have a named source to be referenced in the traceback.\n",
    "\n",
    "    Compared to normal function lambda function is generally used for simple functions and used in higher-order functions. \n",
    "    "
   ]
  },
  {
   "cell_type": "markdown",
   "id": "aa320fd3",
   "metadata": {},
   "source": [
    "## Q5. Are lambda functions in Python able to access variables defined outside of their own scope? Explain with an example.\n",
    "\n",
    "Answer:\n",
    "        Lambda function can access the variable defined outside of their scope as shown in below example,"
   ]
  },
  {
   "cell_type": "code",
   "execution_count": 2,
   "id": "79f2d949",
   "metadata": {},
   "outputs": [
    {
     "data": {
      "text/plain": [
       "30"
      ]
     },
     "execution_count": 2,
     "metadata": {},
     "output_type": "execute_result"
    }
   ],
   "source": [
    "test_v = 10 # outer variable\n",
    "test_lambda = lambda x : x + test_v\n",
    "test_lambda(20) "
   ]
  },
  {
   "cell_type": "markdown",
   "id": "45091048",
   "metadata": {},
   "source": [
    "## Q6. Write a lambda function to calculate the square of a given number."
   ]
  },
  {
   "cell_type": "code",
   "execution_count": 4,
   "id": "28beb2a2",
   "metadata": {},
   "outputs": [
    {
     "data": {
      "text/plain": [
       "400"
      ]
     },
     "execution_count": 4,
     "metadata": {},
     "output_type": "execute_result"
    }
   ],
   "source": [
    "square = lambda x : x**2\n",
    "square(20)   "
   ]
  },
  {
   "cell_type": "markdown",
   "id": "7f530029",
   "metadata": {},
   "source": [
    "## Q7. Create a lambda function to find the maximum value in a list of integers."
   ]
  },
  {
   "cell_type": "code",
   "execution_count": 5,
   "id": "0db084c5",
   "metadata": {},
   "outputs": [
    {
     "data": {
      "text/plain": [
       "2545"
      ]
     },
     "execution_count": 5,
     "metadata": {},
     "output_type": "execute_result"
    }
   ],
   "source": [
    "max_value = lambda x: max(x)\n",
    "\n",
    "max_value([10,20,25,23,256,24,2,48,2545])"
   ]
  },
  {
   "cell_type": "markdown",
   "id": "eb36e342",
   "metadata": {},
   "source": [
    "## Q8. Implement a lambda function to filter out all the even numbers from a list of integers."
   ]
  },
  {
   "cell_type": "code",
   "execution_count": 7,
   "id": "57792823",
   "metadata": {},
   "outputs": [
    {
     "name": "stdout",
     "output_type": "stream",
     "text": [
      "[1, 11, 5, 3]\n"
     ]
    }
   ],
   "source": [
    "num_list = [12,20,1,4,11,6,5,3,2,8,4]\n",
    "filter_list = list(filter(lambda x : x%2 != 0, num_list))\n",
    "print(filter_list)"
   ]
  },
  {
   "cell_type": "markdown",
   "id": "a12d4728",
   "metadata": {},
   "source": [
    "## Q9. Write a lambda function to sort a list of strings in ascending order based on the length of each string."
   ]
  },
  {
   "cell_type": "code",
   "execution_count": 8,
   "id": "a1dc330c",
   "metadata": {},
   "outputs": [
    {
     "name": "stdout",
     "output_type": "stream",
     "text": [
      "['sd', 'fds', 'asdf', 'sdsds', 'dsdwwwwww', 'sdsdsdsds']\n"
     ]
    }
   ],
   "source": [
    "list_of_string = ['asdf', 'sdsds', 'dsdwwwwww', 'sd', 'fds', 'sdsdsdsds']\n",
    "\n",
    "sorted_list = sorted(list_of_string, key=lambda x: len(x))\n",
    "print(sorted_list)"
   ]
  },
  {
   "cell_type": "markdown",
   "id": "33d8d40b",
   "metadata": {},
   "source": [
    "## Q10. Create a lambda function that takes two lists as input and returns a new list containing the common elements between the two lists."
   ]
  },
  {
   "cell_type": "code",
   "execution_count": 10,
   "id": "9ab2eb68",
   "metadata": {},
   "outputs": [
    {
     "name": "stdout",
     "output_type": "stream",
     "text": [
      "[3, 5, 4, 7]\n"
     ]
    }
   ],
   "source": [
    "list1 = [1,2,3,4,5,6,7]\n",
    "list2 = [3,5,4,9,8,7]\n",
    "new_list = list(filter(lambda x: x in list1, list2))\n",
    "print(new_list)"
   ]
  },
  {
   "cell_type": "markdown",
   "id": "f7008c05",
   "metadata": {},
   "source": [
    "## Q11. Write a recursive function to calculate the factorial of a given positive integer."
   ]
  },
  {
   "cell_type": "code",
   "execution_count": 3,
   "id": "89313613",
   "metadata": {},
   "outputs": [
    {
     "data": {
      "text/plain": [
       "402387260077093773543702433923003985719374864210714632543799910429938512398629020592044208486969404800479988610197196058631666872994808558901323829669944590997424504087073759918823627727188732519779505950995276120874975462497043601418278094646496291056393887437886487337119181045825783647849977012476632889835955735432513185323958463075557409114262417474349347553428646576611667797396668820291207379143853719588249808126867838374559731746136085379534524221586593201928090878297308431392844403281231558611036976801357304216168747609675871348312025478589320767169132448426236131412508780208000261683151027341827977704784635868170164365024153691398281264810213092761244896359928705114964975419909342221566832572080821333186116811553615836546984046708975602900950537616475847728421889679646244945160765353408198901385442487984959953319101723355556602139450399736280750137837615307127761926849034352625200015888535147331611702103968175921510907788019393178114194545257223865541461062892187960223838971476088506276862967146674697562911234082439208160153780889893964518263243671616762179168909779911903754031274622289988005195444414282012187361745992642956581746628302955570299024324153181617210465832036786906117260158783520751516284225540265170483304226143974286933061690897968482590125458327168226458066526769958652682272807075781391858178889652208164348344825993266043367660176999612831860788386150279465955131156552036093988180612138558600301435694527224206344631797460594682573103790084024432438465657245014402821885252470935190620929023136493273497565513958720559654228749774011413346962715422845862377387538230483865688976461927383814900140767310446640259899490222221765904339901886018566526485061799702356193897017860040811889729918311021171229845901641921068884387121855646124960798722908519296819372388642614839657382291123125024186649353143970137428531926649875337218940694281434118520158014123344828015051399694290153483077644569099073152433278288269864602789864321139083506217095002597389863554277196742822248757586765752344220207573630569498825087968928162753848863396909959826280956121450994871701244516461260379029309120889086942028510640182154399457156805941872748998094254742173582401063677404595741785160829230135358081840096996372524230560855903700624271243416909004153690105933983835777939410970027753472000000000000000000000000000000000000000000000000000000000000000000000000000000000000000000000000000000000000000000000000000000000000000000000000000000000000000000000000000000000000000000000000000000000000000000000000000000000000000000000000000000000"
      ]
     },
     "execution_count": 3,
     "metadata": {},
     "output_type": "execute_result"
    }
   ],
   "source": [
    "def factorial(x):\n",
    "    if x == 0 or x == 1 :\n",
    "        return 1\n",
    "\n",
    "    return x* factorial(x-1)\n",
    "\n",
    "factorial(1000)"
   ]
  },
  {
   "cell_type": "markdown",
   "id": "a98069fc",
   "metadata": {},
   "source": [
    "## Q12. Implement a recursive function to compute the nth Fibonacci number."
   ]
  },
  {
   "cell_type": "code",
   "execution_count": 5,
   "id": "466305c7",
   "metadata": {},
   "outputs": [
    {
     "data": {
      "text/plain": [
       "34"
      ]
     },
     "execution_count": 5,
     "metadata": {},
     "output_type": "execute_result"
    }
   ],
   "source": [
    "def fibonacci(n):\n",
    "    if n <= 0:\n",
    "        print(\"Please enter valid number\")\n",
    "    if n == 1 :\n",
    "        return 0\n",
    "    if n == 2:\n",
    "        return 1\n",
    "\n",
    "    return fibonacci(n-1) + fibonacci(n-2)\n",
    "\n",
    "fibonacci(10)\n"
   ]
  },
  {
   "cell_type": "markdown",
   "id": "4456636c",
   "metadata": {},
   "source": [
    "## Q13. Create a recursive function to find the sum of all the elements in a given list."
   ]
  },
  {
   "cell_type": "code",
   "execution_count": 8,
   "id": "0df6ad8a",
   "metadata": {},
   "outputs": [
    {
     "data": {
      "text/plain": [
       "5659"
      ]
     },
     "execution_count": 8,
     "metadata": {},
     "output_type": "execute_result"
    }
   ],
   "source": [
    "def sum_list(l):\n",
    "    if len(l) == 0:\n",
    "        return 0\n",
    "    return l.pop() + sum_list(l)\n",
    "\n",
    "sum_list([1,2,25,89,77,5210,255])"
   ]
  },
  {
   "cell_type": "markdown",
   "id": "8f83830d",
   "metadata": {},
   "source": [
    "## Q14. Write a recursive function to determine whether a given string is a palindrome."
   ]
  },
  {
   "cell_type": "code",
   "execution_count": 13,
   "id": "7e47d9b3",
   "metadata": {},
   "outputs": [
    {
     "data": {
      "text/plain": [
       "True"
      ]
     },
     "execution_count": 13,
     "metadata": {},
     "output_type": "execute_result"
    }
   ],
   "source": [
    "def palindrome(s):\n",
    "    s=s.lower()\n",
    "    if len(s) == 0 :\n",
    "        return True\n",
    "    elif s[0] != s[-1]:\n",
    "        return False\n",
    "\n",
    "    return palindrome(s[1:-1])\n",
    "\n",
    "\n",
    "palindrome('Nan')"
   ]
  },
  {
   "cell_type": "markdown",
   "id": "ff5e2408",
   "metadata": {},
   "source": [
    "## Q15. Implement a recursive function to find the greatest common divisor (GCD) of two positive integers."
   ]
  },
  {
   "cell_type": "code",
   "execution_count": 15,
   "id": "4131d9ff",
   "metadata": {},
   "outputs": [
    {
     "data": {
      "text/plain": [
       "5"
      ]
     },
     "execution_count": 15,
     "metadata": {},
     "output_type": "execute_result"
    }
   ],
   "source": [
    "def find_GCD(a, b):\n",
    "    if b == 0:\n",
    "        return a\n",
    "\n",
    "    return find_GCD(b,a%b)\n",
    "a = 50\n",
    "b = 45\n",
    "find_GCD(50, 45)"
   ]
  },
  {
   "cell_type": "code",
   "execution_count": null,
   "id": "313a4941",
   "metadata": {},
   "outputs": [],
   "source": []
  }
 ],
 "metadata": {
  "kernelspec": {
   "display_name": "Python 3 (ipykernel)",
   "language": "python",
   "name": "python3"
  },
  "language_info": {
   "codemirror_mode": {
    "name": "ipython",
    "version": 3
   },
   "file_extension": ".py",
   "mimetype": "text/x-python",
   "name": "python",
   "nbconvert_exporter": "python",
   "pygments_lexer": "ipython3",
   "version": "3.10.9"
  }
 },
 "nbformat": 4,
 "nbformat_minor": 5
}
