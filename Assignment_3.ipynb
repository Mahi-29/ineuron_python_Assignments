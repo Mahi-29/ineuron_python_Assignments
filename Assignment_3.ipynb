{
 "cells": [
  {
   "cell_type": "markdown",
   "id": "83ea2480-40d7-4563-98a9-aace058a6e3a",
   "metadata": {},
   "source": [
    "## Q1. Why are functions advantageous to have in your programs?\n",
    "\n",
    "Answer:\n",
    "* Helps in organizing the code efficintly.\n",
    "* Piece of code written in function can be re-used without writing it again.\n",
    "* Code will be shorter.\n",
    "* Program will be more readable, can edit code easily.\n"
   ]
  },
  {
   "cell_type": "markdown",
   "id": "eb2f5209-e89a-4efd-a710-2ad4b7b63689",
   "metadata": {},
   "source": [
    "## Q2. When does the code in a function run: when it's specified or when it's called?\n",
    "\n",
    "Answer : First we need to define the function by using def keyword followed by it's name and to call function we need to write function name with round brakets '()', As Shown below"
   ]
  },
  {
   "cell_type": "code",
   "execution_count": null,
   "id": "baad364c-9ced-48e0-86a6-c1656735ae09",
   "metadata": {},
   "outputs": [
    {
     "name": "stdout",
     "output_type": "stream",
     "text": [
      "This is a example function\n"
     ]
    }
   ],
   "source": [
    "def example(): # here we have defined the function named example\n",
    "    print(\"This is a example function\")\n",
    "    \n",
    "example() # here we are calling above defined function."
   ]
  },
  {
   "cell_type": "markdown",
   "id": "ca6c5a12-3033-43f1-8969-692144d2534b",
   "metadata": {},
   "source": [
    "## Q3. What statement creates a function?\n",
    "\n",
    "Answer: To create a function we have to write \"def functionname():\" this will define function and now we can write the code with indentations, as shown below."
   ]
  },
  {
   "cell_type": "code",
   "execution_count": 2,
   "id": "6279af7c-0950-4879-85b4-5d833404d147",
   "metadata": {},
   "outputs": [
    {
     "name": "stdout",
     "output_type": "stream",
     "text": [
      "This is a example function\n"
     ]
    }
   ],
   "source": [
    "def example(): # here we have defined the function named example\n",
    "    print(\"This is a example function\")\n",
    "    \n",
    "example() # here we are calling above defined function."
   ]
  },
  {
   "cell_type": "markdown",
   "id": "4cb670b1-4219-48df-8f9f-1ed5ab941470",
   "metadata": {},
   "source": [
    "## Q4. What is the difference between a function and a function call?\n",
    "\n",
    "Answer: As shown above we have defined a function then to run that function we need to call it then only it will show us output. The function is created to reduce the code repetition or for the code which need to be reused and to use this function we need to call it using function call."
   ]
  },
  {
   "cell_type": "markdown",
   "id": "b82622da-c90a-4484-9017-4ad0b7d15dc7",
   "metadata": {},
   "source": [
    "## Q5. How many global scopes are there in a Python program? How many local scopes?\n",
    "\n",
    "Answer: - There is only one global scope in python and multiple local scopes are possible \n",
    "\n",
    "Global Scope: There is a single global scope in a Python program. This scope encompasses the entire module or script\n",
    "\n",
    "Local Scopes: Each function or method defines its own local scope. When a function is called, a new local scope is created for that function.\n",
    "In addition to the global and local scopes, there is also an enclosing scope that comes into play with nested functions."
   ]
  },
  {
   "cell_type": "markdown",
   "id": "0c85a72b-ad3c-4875-9e19-bf62fde79c08",
   "metadata": {},
   "source": [
    "## Q6. What happens to variables in a local scope when the function call returns?\n",
    "\n",
    "Answer: Variables in a local scop will be deleted by python memory managment once the function call returns."
   ]
  },
  {
   "cell_type": "markdown",
   "id": "6ca4fb32-fe8c-4f7a-96d8-e0cdd6ff82e4",
   "metadata": {},
   "source": [
    "## Q7. What is the concept of a return value? Is it possible to have a return value in an expression?\n",
    "\n",
    "Answer: return is used to send value to the function call once all the calculations are done in the function. We can return a value like boolean, int, string as well as we can send the expression the function will return the value of expression not complete expression"
   ]
  },
  {
   "cell_type": "code",
   "execution_count": 7,
   "id": "c80f6831-0e57-480f-a386-fc4d036db5f3",
   "metadata": {},
   "outputs": [
    {
     "name": "stdout",
     "output_type": "stream",
     "text": [
      "None\n"
     ]
    }
   ],
   "source": [
    "def example():\n",
    "    \n",
    "    return 1+2+3\n",
    "\n",
    "example()\n"
   ]
  },
  {
   "cell_type": "markdown",
   "id": "bf2652d7-63d5-4ed3-a257-f384cc1e16e4",
   "metadata": {},
   "source": [
    "## Q8. If a function does not have a return statement, what is the return value of a call to that function?\n",
    "\n",
    "Answer: As shown in below example the function will give none if nothing is returned."
   ]
  },
  {
   "cell_type": "code",
   "execution_count": 8,
   "id": "cc460ecf-5af9-4f16-95b4-68dbf3581b6c",
   "metadata": {},
   "outputs": [
    {
     "name": "stdout",
     "output_type": "stream",
     "text": [
      "None\n"
     ]
    }
   ],
   "source": [
    "def example():\n",
    "    a= \"test\"\n",
    "\n",
    "\n",
    "print(example())\n"
   ]
  },
  {
   "cell_type": "markdown",
   "id": "2d50addc-ac93-4134-80bc-3710ec9384ea",
   "metadata": {},
   "source": [
    "## Q9. How do you make a function variable refer to the global variable?\n",
    "\n",
    "Answer: we can use \"global\" to make a function variable refer to global variable, As shown in below example."
   ]
  },
  {
   "cell_type": "code",
   "execution_count": 9,
   "id": "bc3f684f-4e42-412c-9b26-4d267c2b27e5",
   "metadata": {},
   "outputs": [
    {
     "name": "stdout",
     "output_type": "stream",
     "text": [
      "None\n",
      "test\n"
     ]
    }
   ],
   "source": [
    "def example():\n",
    "    global a\n",
    "    a= \"test\"\n",
    "\n",
    "example()\n",
    "print(a)"
   ]
  },
  {
   "cell_type": "markdown",
   "id": "6b70af27-334b-473b-8ba3-fe8c5d9b9add",
   "metadata": {},
   "source": [
    "## Q10. What is the data type of None?\n",
    "\n",
    "Answer : Datatype of none is nonetype, as shown below"
   ]
  },
  {
   "cell_type": "code",
   "execution_count": 12,
   "id": "b59666b6-aea9-44eb-84b4-9c68b679079c",
   "metadata": {},
   "outputs": [
    {
     "data": {
      "text/plain": [
       "NoneType"
      ]
     },
     "execution_count": 12,
     "metadata": {},
     "output_type": "execute_result"
    }
   ],
   "source": [
    "\n",
    "type(None)"
   ]
  },
  {
   "cell_type": "markdown",
   "id": "016bf7b8-93f8-4620-bae2-44c7d58e89e8",
   "metadata": {},
   "source": [
    "## Q11. What does the sentence import areallyourpetsnamederic do?\n",
    "\n",
    "Answer: will import module named as areallyourpetsnamederic if it is avilabel or will throug error saying no module named \"areallyourpetsnamederic\"\n",
    "\n"
   ]
  },
  {
   "cell_type": "markdown",
   "id": "0e635fc7-e846-4bda-8226-4818966c757c",
   "metadata": {},
   "source": [
    "## Q12. If you had a bacon() feature in a spam module, what would you call it after importing spam?\n",
    "\n",
    "Answer:\n",
    "\n",
    "import spam\n",
    "\n",
    "spam.bacon()\n"
   ]
  },
  {
   "cell_type": "markdown",
   "id": "e86056fd-8bc2-4ce2-a13a-d1b5fad18b1f",
   "metadata": {},
   "source": [
    "## Q13. What can you do to save a programme from crashing if it encounters an error?\n",
    "\n",
    "Answer: To prevent code from crashing we will need to implement try and except to handel the error.\n"
   ]
  },
  {
   "cell_type": "markdown",
   "id": "8ba4f131-d843-453f-87b9-bd7ccdcff064",
   "metadata": {},
   "source": [
    "## Q14. What is the purpose of the try clause? What is the purpose of the except clause?\n",
    "\n",
    "Answer: In try clause we generally write the code which we need to run and we know that this code can give error.\n",
    "In except clause we handel error generated while running the try clause and give the user what he has done wrong."
   ]
  },
  {
   "cell_type": "code",
   "execution_count": 2,
   "id": "1e77ef57-acc3-4d3b-bfa8-2b72d0c16f62",
   "metadata": {},
   "outputs": [
    {
     "name": "stdout",
     "output_type": "stream",
     "text": [
      "cannot divide by zero\n"
     ]
    }
   ],
   "source": [
    "try:\n",
    "    num = int(input(\"Enter a number: \"))\n",
    "    result = 10 / num\n",
    "    print(\"Result:\", result)\n",
    "except ZeroDivisionError:\n",
    "    print(\"cannot divide by zero\")"
   ]
  },
  {
   "cell_type": "code",
   "execution_count": null,
   "id": "7bd0a6a2",
   "metadata": {},
   "outputs": [],
   "source": []
  }
 ],
 "metadata": {
  "kernelspec": {
   "display_name": "Python 3 (ipykernel)",
   "language": "python",
   "name": "python3"
  },
  "language_info": {
   "codemirror_mode": {
    "name": "ipython",
    "version": 3
   },
   "file_extension": ".py",
   "mimetype": "text/x-python",
   "name": "python",
   "nbconvert_exporter": "python",
   "pygments_lexer": "ipython3",
   "version": "3.10.9"
  }
 },
 "nbformat": 4,
 "nbformat_minor": 5
}
