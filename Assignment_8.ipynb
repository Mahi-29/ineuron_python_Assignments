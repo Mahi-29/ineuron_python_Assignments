{
 "cells": [
  {
   "cell_type": "markdown",
   "id": "716c0b1c-4551-4f24-93c7-eb7613c272c0",
   "metadata": {},
   "source": [
    "## Q1. In Python, what is the difference between a built-in function and a user-defined function? Provide an example of each.\n",
    "\n",
    "Answer: The python function come along with the python are called as in-built function and when user defines the function that function is called userdefine function.The examples are shown below.\n",
    " "
   ]
  },
  {
   "cell_type": "code",
   "execution_count": 3,
   "id": "f087c815-1fc8-431b-91a9-f1e71a52dcca",
   "metadata": {},
   "outputs": [
    {
     "name": "stdout",
     "output_type": "stream",
     "text": [
      "This is a in-built function of python\n",
      "--------------------------------------------\n",
      "3\n",
      "add is userdefine function \n"
     ]
    }
   ],
   "source": [
    "# in-built function :\n",
    "print(\"This is a in-built function of python\")\n",
    "\n",
    "# user define function :\n",
    "print(\"--------------------------------------------\")\n",
    "def add(num1, num2):\n",
    "    ans=num1+num2\n",
    "    return ans\n",
    "print(add(1,2))\n",
    "print(\"add is userdefine function \")"
   ]
  },
  {
   "cell_type": "markdown",
   "id": "032ca8b7-554e-4d06-9032-e3d063b00689",
   "metadata": {},
   "source": [
    "## Q2. How can you pass arguments to a function in Python? Explain the difference between positional arguments and keyword arguments.\n",
    "\n",
    "Answer: There are two ways to pass the argument in a function we can have positional arguments or keyword arguments, in positional argumnets we just have to pass values in the  order  which we want them in keyword argument we need to pass the name of the variable also with value. Keyword arguments are defined by **name and for defining positional argument *name is the syntax\n"
   ]
  },
  {
   "cell_type": "code",
   "execution_count": 12,
   "id": "fd19efed-2d75-4b31-a4a3-920c9cb43c0a",
   "metadata": {},
   "outputs": [
    {
     "name": "stdout",
     "output_type": "stream",
     "text": [
      "(1, 2) values of argument\n",
      "{'test': 1}\n"
     ]
    }
   ],
   "source": [
    "# positional arguments \n",
    "def test(*a):\n",
    "    print(a, \"values of argument\")\n",
    "test(1,2)\n",
    "# keyword arguments:\n",
    "def test2(**a):\n",
    "    print(a)\n",
    "\n",
    "test2(test= 1)"
   ]
  },
  {
   "cell_type": "markdown",
   "id": "72318139-0fa3-4bbd-ad70-8b40d8e44753",
   "metadata": {},
   "source": [
    "## Q3. What is the purpose of the return statement in a function? Can a function have multiple return statements? Explain with an example.\n",
    "\n",
    "Answer:\n",
    "    return statement is used to pass the value from function to the outside of function we can return the output of our function, we cannot use multipe return statements in function oneafter other as after return function ends it will not process any thing written further. as shown in below example."
   ]
  },
  {
   "cell_type": "code",
   "execution_count": 13,
   "id": "6ce72c2b-48e3-4580-934a-9e5f86862f88",
   "metadata": {},
   "outputs": [
    {
     "name": "stdout",
     "output_type": "stream",
     "text": [
      "3\n"
     ]
    }
   ],
   "source": [
    "# return example\n",
    "def add(a, b):\n",
    "    return a+b\n",
    "addition = add(1,2)\n",
    "print(addition)\n"
   ]
  },
  {
   "cell_type": "code",
   "execution_count": 16,
   "id": "9e55ecb0-3891-4915-9fb0-9280e0afe579",
   "metadata": {},
   "outputs": [
    {
     "name": "stdout",
     "output_type": "stream",
     "text": [
      "3\n"
     ]
    }
   ],
   "source": [
    "# tring to use multiple return using in a function\\\n",
    "def test(a,b):\n",
    "    return a+b\n",
    "    print(\"print after return\")\n",
    "    return a-b\n",
    "ans = test(1,2)\n",
    "print(ans)"
   ]
  },
  {
   "cell_type": "markdown",
   "id": "fff1733c-dce2-4950-866d-d06991ac0305",
   "metadata": {},
   "source": [
    "## Q4. What are lambda functions in Python? How are they different from regular functions? Provide an example where a lambda function can be useful.\n",
    "\n",
    "Answer: Lambda function are one lone functions which are defined with lambda keyword and we can pass any number of arguments to a lambda function but it can only return single expression output unlike normal functions we dont use def keyword to define function also lambda function is a anonomus function (i.e. function wihtout name). Lambda function can be used in the tasks where we need to add two numbers or we want to do a single line opration multiple times in the code we can define labda function for that"
   ]
  },
  {
   "cell_type": "code",
   "execution_count": 2,
   "id": "3afd2539-55ad-4d5d-b364-2238c7e0c54f",
   "metadata": {},
   "outputs": [
    {
     "name": "stdout",
     "output_type": "stream",
     "text": [
      "100\n"
     ]
    },
    {
     "data": {
      "text/plain": [
       "100"
      ]
     },
     "execution_count": 2,
     "metadata": {},
     "output_type": "execute_result"
    }
   ],
   "source": [
    "# example of lambda function\n",
    "t = lambda x : x**2\n",
    "print(t(10))\n",
    "\n",
    "# normal function for same code\n",
    "def square(X):\n",
    "    return X**2\n",
    "square(10)\n"
   ]
  },
  {
   "cell_type": "markdown",
   "id": "4e1ab419-e582-4dcd-a9d4-0dfc95d6f52e",
   "metadata": {},
   "source": [
    "## Q5. How does the concept of \"scope\" apply to functions in Python? Explain the difference between local scope and global scope. \n",
    "\n",
    "Answer: In a function if we define a variable it means that it will come under the local scope that means this variable cannot be accessed outside the function. we can use any globle scope variable inside function and can do oprations on it change value of the variable also.\n",
    "\n",
    "The main difference between the global and local scope is local variable are restricted to the local its local space only like a variable define in a function. The global scope variable can be accessed anywhere in the code to define the global scope variable we can define the variable in the genral flow of code or we can use global keyword to define globle variable inside a function"
   ]
  },
  {
   "cell_type": "markdown",
   "id": "887b6662-6528-4251-92c4-ddfe5b988c74",
   "metadata": {},
   "source": [
    "## Q6. How can you use the \"return\" statement in a Python function to return multiple values?\n",
    "\n",
    "Answer: we can return multiple values from a function by using comma separated values in return as shown in below example"
   ]
  },
  {
   "cell_type": "code",
   "execution_count": 3,
   "id": "1fd9346d-cd25-4ada-b147-e06cc81530bc",
   "metadata": {},
   "outputs": [
    {
     "name": "stdout",
     "output_type": "stream",
     "text": [
      "(15, 5)\n"
     ]
    }
   ],
   "source": [
    "def testfunction(a,b):\n",
    "    return a+b, a-b\n",
    "print(testfunction(10,5))"
   ]
  },
  {
   "cell_type": "markdown",
   "id": "0a9c9bda-4c4f-4830-abbc-e4d6b916e70d",
   "metadata": {},
   "source": [
    "## Q7. What is the difference between the \"pass by value\" and \"pass by reference\" concepts when it comes to function arguments in Python?\n",
    "\n",
    "Answer: pass by refrence means we pass the refrence of value only and in pass by value means it will copy the value and create values. In pass by refrence if we change aything to new variable value same this will reflect in orignal variable and in case of pass by value new variable and orignal variable will not have any relation. as shown in below example. "
   ]
  },
  {
   "cell_type": "code",
   "execution_count": 10,
   "id": "9d8b3d15-d3b5-465b-a5c0-d5c118efc01a",
   "metadata": {},
   "outputs": [
    {
     "name": "stdout",
     "output_type": "stream",
     "text": [
      "before adding aything to y value of x 100\n",
      "values of y 110\n",
      "after adding 10 to y value of x 100\n"
     ]
    }
   ],
   "source": [
    "## pass by value\n",
    "y = x = 100 \n",
    "\n",
    "print(\"before adding aything to y value of x\",x)\n",
    "y+=10\n",
    "print(\"values of y\",y)\n",
    "print(\"after adding 10 to y value of x\",x)\n",
    "\n"
   ]
  },
  {
   "cell_type": "code",
   "execution_count": 12,
   "id": "056d5541-3eaa-4b66-ac45-06b62977eae2",
   "metadata": {},
   "outputs": [
    {
     "name": "stdout",
     "output_type": "stream",
     "text": [
      "Before function call ['A']\n",
      "Inside function call ['A', 'B']\n",
      "After function call ['A', 'B']\n"
     ]
    }
   ],
   "source": [
    "## pass by refrance\n",
    "def function(l):\n",
    "    l.append('B')\n",
    "    print(\"Inside function call\",l)\n",
    "    \n",
    "l=['A']\n",
    "print(\"Before function call\",l)\n",
    "function(l)\n",
    "print(\"After function call\",l)"
   ]
  },
  {
   "cell_type": "markdown",
   "id": "ffb4fab1-c1f8-4181-acc1-7314327964b2",
   "metadata": {},
   "source": [
    "## Q8. Create a function that can intake integer or decimal value and do following operations:\n",
    "*  Logarithmic function (log x)\n",
    "*  Exponential function (exp(x))\n",
    "*  Power function with base 2 (2x)\n",
    "*  Square root "
   ]
  },
  {
   "cell_type": "code",
   "execution_count": 20,
   "id": "34dea461-cf19-4558-bea7-e36b6479c18f",
   "metadata": {},
   "outputs": [
    {
     "name": "stdout",
     "output_type": "stream",
     "text": [
      "Log of 4.2 is 1.4350845252893227\n",
      "exponential of 4.2 is 66.68633104092515\n",
      "valuse of 2^4.2 is 18.37917367995256\n",
      "square root of 4.2 is 2.04939015319192\n"
     ]
    }
   ],
   "source": [
    "import math\n",
    "def funcop(x):\n",
    "    print(f\"Log of {x} is {math.log(x)}\")\n",
    "    print(f\"exponential of {x} is {math.exp(x)}\")\n",
    "    print(f\"valuse of 2^{x} is {2**x}\")\n",
    "    print(f\"square root of {x} is {math.sqrt(x)}\")\n",
    "\n",
    "funcop(4.2)"
   ]
  },
  {
   "cell_type": "markdown",
   "id": "0a21f25a-fbfe-48ac-b046-05e15ed14d9d",
   "metadata": {},
   "source": [
    "## Q9. Create a function that takes a full name as an argument and returns first name and last name. "
   ]
  },
  {
   "cell_type": "code",
   "execution_count": 21,
   "id": "7ac14d7f-e225-4429-b073-3c1ea9bd5994",
   "metadata": {},
   "outputs": [
    {
     "name": "stdin",
     "output_type": "stream",
     "text": [
      "Please enter your full name  Mahish Kadam\n"
     ]
    },
    {
     "name": "stdout",
     "output_type": "stream",
     "text": [
      "first name is Mahish\n",
      "last name is Kadam\n"
     ]
    }
   ],
   "source": [
    "def namefunction(name):\n",
    "    full_name = name.split(\" \")\n",
    "    print(f\"first name is {full_name[0]}\")\n",
    "    print(f\"last name is {full_name[1]}\")\n",
    "    \n",
    "name = input(\"Please enter your full name \")\n",
    "namefunction(name)"
   ]
  },
  {
   "cell_type": "code",
   "execution_count": null,
   "id": "0046ffe7-d812-4036-bb46-71eff6625be2",
   "metadata": {},
   "outputs": [],
   "source": []
  }
 ],
 "metadata": {
  "kernelspec": {
   "display_name": "Python 3 (ipykernel)",
   "language": "python",
   "name": "python3"
  },
  "language_info": {
   "codemirror_mode": {
    "name": "ipython",
    "version": 3
   },
   "file_extension": ".py",
   "mimetype": "text/x-python",
   "name": "python",
   "nbconvert_exporter": "python",
   "pygments_lexer": "ipython3",
   "version": "3.10.9"
  }
 },
 "nbformat": 4,
 "nbformat_minor": 5
}
