{
 "cells": [
  {
   "cell_type": "markdown",
   "metadata": {},
   "source": [
    "### Q1. What is the role of try and exception block?\n",
    "\n",
    "Answer: \n",
    "        In python we use combination of one try block and multiple except blocks for error handling, Now here when we say that we use try and except block for error handling means the code which you suspect can raise exception will be written in the try block so python will monitor this code for any exceptions and if there is any exception occurred it can be handled in exception block we can use multiple except blocks to handle different exceptions and show a user friendly message also we can log this exception for debugging purpose. This type of exception handling will allow python code to run smoothly without stopping when exception is occurred at any point in try block code.\n",
    "\n",
    "        As shown in below example if we give 0 in denominator our code will through the ZeroDivisionError which we can handle in except block.    "
   ]
  },
  {
   "cell_type": "code",
   "execution_count": 4,
   "metadata": {},
   "outputs": [
    {
     "name": "stdout",
     "output_type": "stream",
     "text": [
      "Cannot divide by zero, Please enter a positive number\n"
     ]
    }
   ],
   "source": [
    "try:\n",
    "    denominator = int(input(\"please enter a number:\"))\n",
    "    division = 10/denominator\n",
    "    print(\"Result:\",division)\n",
    "except ZeroDivisionError:\n",
    "    print(\"Cannot divide by zero, Please enter a positive number\")\n",
    "except ValueError:\n",
    "    print(\"enter a valid number\")\n",
    "\n",
    "    \n"
   ]
  },
  {
   "cell_type": "markdown",
   "metadata": {},
   "source": [
    "### Q2. What is the syntax for a basic try-except block?\n",
    "\n",
    "Answer:\n",
    "Basic syntax for try and except block is as follows:\n",
    "\n",
    "try:\n",
    "\n",
    "        # code which can raise exception\n",
    "\n",
    "except:\n",
    "\n",
    "        # handle exception here\n",
    "\n"
   ]
  },
  {
   "cell_type": "code",
   "execution_count": 5,
   "metadata": {},
   "outputs": [
    {
     "name": "stdout",
     "output_type": "stream",
     "text": [
      "Result: 1.0\n"
     ]
    }
   ],
   "source": [
    "try:\n",
    "    denominator = int(input(\"please enter a number:\"))\n",
    "    division = 10/denominator\n",
    "    print(\"Result:\",division)\n",
    "except ZeroDivisionError:\n",
    "    print(\"Cannot divide by zero, Please enter a positive number\")\n",
    "except ValueError:\n",
    "    print(\"enter a valid number\")"
   ]
  },
  {
   "cell_type": "markdown",
   "metadata": {},
   "source": [
    "### Q3. What happens if an exception occurs inside a try block and there is no matching except block?\n",
    "\n",
    "Answer:\n",
    "\n",
    "If python encounters a exception in the try block and this exception is not handled in the except block the python will through the error and stop code execution\n",
    "As shown in below example"
   ]
  },
  {
   "cell_type": "code",
   "execution_count": 6,
   "metadata": {},
   "outputs": [
    {
     "ename": "ValueError",
     "evalue": "invalid literal for int() with base 10: 's'",
     "output_type": "error",
     "traceback": [
      "\u001b[1;31m---------------------------------------------------------------------------\u001b[0m",
      "\u001b[1;31mValueError\u001b[0m                                Traceback (most recent call last)",
      "Cell \u001b[1;32mIn[6], line 2\u001b[0m\n\u001b[0;32m      1\u001b[0m \u001b[39mtry\u001b[39;00m:\n\u001b[1;32m----> 2\u001b[0m     denominator \u001b[39m=\u001b[39m \u001b[39mint\u001b[39;49m(\u001b[39minput\u001b[39;49m(\u001b[39m\"\u001b[39;49m\u001b[39mplease enter a number:\u001b[39;49m\u001b[39m\"\u001b[39;49m))\n\u001b[0;32m      3\u001b[0m     division \u001b[39m=\u001b[39m \u001b[39m10\u001b[39m\u001b[39m/\u001b[39mdenominator\n\u001b[0;32m      4\u001b[0m     \u001b[39mprint\u001b[39m(\u001b[39m\"\u001b[39m\u001b[39mResult:\u001b[39m\u001b[39m\"\u001b[39m,division)\n",
      "\u001b[1;31mValueError\u001b[0m: invalid literal for int() with base 10: 's'"
     ]
    }
   ],
   "source": [
    "try:\n",
    "    denominator = int(input(\"please enter a number:\"))\n",
    "    division = 10/denominator\n",
    "    print(\"Result:\",division)\n",
    "except ZeroDivisionError:\n",
    "    print(\"Cannot divide by zero, Please enter a positive number\")"
   ]
  },
  {
   "cell_type": "markdown",
   "metadata": {},
   "source": [
    "## Q4. What is the difference between using a bare except block and specifying a specific exception type?\n",
    "\n",
    "Answer: Bare except block will handle all type of exceptions and compared to the a specific exception block handles only mentioned exception using bare except block is considered bad practice in python as it is difficult to debug the exception occurred."
   ]
  },
  {
   "cell_type": "markdown",
   "metadata": {},
   "source": [
    "### Q5. Can you have nested try-except blocks in Python? If yes, then give an example.\n",
    "\n",
    "Answer: Yes we can use nested try-except blocks in python. this method is is used when we want to handle different level of exception in more granular level\n",
    "As shown in below example."
   ]
  },
  {
   "cell_type": "code",
   "execution_count": 3,
   "metadata": {},
   "outputs": [
    {
     "name": "stdout",
     "output_type": "stream",
     "text": [
      "Result: 0.18518518518518517\n"
     ]
    }
   ],
   "source": [
    "try:\n",
    "    denominator = int(input(\"please enter a number:\"))\n",
    "    try:\n",
    "        division = 10/denominator\n",
    "        print(\"Result:\",division)\n",
    "    except ZeroDivisionError:\n",
    "        print(\"Cannot divide by zero, Please enter a positive number\")\n",
    "except ValueError:\n",
    "    print(\"enter a valid number\")"
   ]
  },
  {
   "cell_type": "markdown",
   "metadata": {},
   "source": [
    "### Q6. Can we use multiple exception blocks, if yes then give an example.\n",
    "\n",
    "Answer: Yes we can use multiple exception blocks in the code \n",
    "As shown in below example"
   ]
  },
  {
   "cell_type": "code",
   "execution_count": 2,
   "metadata": {},
   "outputs": [
    {
     "name": "stdout",
     "output_type": "stream",
     "text": [
      "enter a valid number\n"
     ]
    }
   ],
   "source": [
    "try:\n",
    "    denominator = int(input(\"please enter a number:\"))\n",
    "    division = 10/denominator\n",
    "    print(\"Result:\",division)\n",
    "except ZeroDivisionError:\n",
    "    print(\"Cannot divide by zero, Please enter a positive number\")\n",
    "except ValueError:\n",
    "    print(\"enter a valid number\")\n",
    "\n",
    "except Exception as e:\n",
    "    print(\"following exception occurred:\",e)"
   ]
  },
  {
   "cell_type": "markdown",
   "metadata": {},
   "source": [
    "### Q7. Write the reason due to which following errors are raised:\n",
    "    a. EOFError\n",
    "    b. FloatingPointError\n",
    "    c. IndexError\n",
    "    d. MemoryError\n",
    "    e. OverflowError\n",
    "    f. TabError\n",
    "    g. ValueError\n",
    "\n",
    "Answer:\n",
    "\n",
    "    a. EOFError : \n",
    "                This error occurs when input function reaches end of line condition with reading any data this happens generally with online ides \n",
    "    b. FloatingPointError:\n",
    "                This Error occurs when a floating-point cannot be performed due to expectational condition like calculating square root of negative number.\n",
    "    c. IndexError:\n",
    "            This error occurs when we try to access index which is out of range in sequence like tuple, array, list etc.\n",
    "    d. MemoryError:\n",
    "            This error occurs when program runs out of memory while allocating more memory this happens due to excessive memory usage's improper management of memory\n",
    "    e. OverflowError:\n",
    "            This error occurs when we try to represent the number that exceeds the limit of numeric type. For example trying to calculate the integer which is to large to be represented as integer\n",
    "    f. TabError:\n",
    "            This error occurs when the indentation in your code contains a mix of tabs and spaces, causing inconsistent indentation. \n",
    "    g. ValueError:\n",
    "            This error occurs when a function or variable receives the argument of wrong datatype"
   ]
  },
  {
   "cell_type": "markdown",
   "metadata": {},
   "source": [
    "### Q8. Write code for the following given scenario and add try-exception block to it.\n",
    "    a. Program to divide two numbers\n",
    "    b. Program to convert a string to an integer\n",
    "    c. Program to access an element in a list\n",
    "    d. Program to handle a specific exception\n",
    "    e. Program to handle any exception"
   ]
  },
  {
   "cell_type": "code",
   "execution_count": 3,
   "metadata": {},
   "outputs": [
    {
     "name": "stdout",
     "output_type": "stream",
     "text": [
      "Result: 5.0\n"
     ]
    }
   ],
   "source": [
    "## a Program to divide two numbers\n",
    "try:\n",
    "    denominator = int(input(\"please enter a number:\"))\n",
    "    division = 10/denominator\n",
    "    print(\"Result:\",division)\n",
    "except ZeroDivisionError:\n",
    "    print(\"Cannot divide by zero, Please enter a positive number\")\n",
    "except ValueError:\n",
    "    print(\"enter a valid number\")\n",
    "\n",
    "except Exception as e:\n",
    "    print(\"following exception occurred:\",e)\n"
   ]
  },
  {
   "cell_type": "code",
   "execution_count": 5,
   "metadata": {},
   "outputs": [
    {
     "name": "stdout",
     "output_type": "stream",
     "text": [
      "<class 'str'>\n",
      "Enter a digit\n"
     ]
    }
   ],
   "source": [
    "## Program to convert a string to an integer\n",
    "try :\n",
    "    number = input(\"Please enter a number\")\n",
    "    print(type(number))\n",
    "    number = int(number)\n",
    "    print(type(number), number)\n",
    "except ValueError:\n",
    "    print(\"Enter a digit\")\n"
   ]
  },
  {
   "cell_type": "code",
   "execution_count": 8,
   "metadata": {},
   "outputs": [
    {
     "name": "stdout",
     "output_type": "stream",
     "text": [
      "select index between 0 to 8:\n",
      "3\n"
     ]
    }
   ],
   "source": [
    "## Program to access an element in a list\n",
    "try :\n",
    "    ls = [1,2,3,4,5,6,7,8] \n",
    "    print(f\"select index between 0 to {len(ls)}:\")\n",
    "    index = int(input())\n",
    "    print(ls[index])\n",
    "except IndexError:\n",
    "    print(\"please enter a proper index\")\n",
    "\n",
    "except ValueError:\n",
    "    print(\"enter a valid number\")"
   ]
  },
  {
   "cell_type": "code",
   "execution_count": 9,
   "metadata": {},
   "outputs": [
    {
     "name": "stdout",
     "output_type": "stream",
     "text": [
      "Result: 0.5\n"
     ]
    }
   ],
   "source": [
    "## Program to handle a specific exception\n",
    "try:\n",
    "    denominator = int(input(\"please enter a number:\"))\n",
    "    division = 10/denominator\n",
    "    print(\"Result:\",division)\n",
    "except ZeroDivisionError:\n",
    "    print(\"Cannot divide by zero, Please enter a positive number\")\n",
    "except ValueError:\n",
    "    print(\"enter a valid number\")\n",
    "\n",
    "except Exception as e:\n",
    "    print(\"following exception occurred:\",e)\n",
    "    "
   ]
  },
  {
   "cell_type": "code",
   "execution_count": 11,
   "metadata": {},
   "outputs": [
    {
     "name": "stdout",
     "output_type": "stream",
     "text": [
      "Result: -0.11764705882352941\n"
     ]
    }
   ],
   "source": [
    "## Program to handle any exception\n",
    "try:\n",
    "    denominator = int(input(\"please enter a number:\"))\n",
    "    division = 10/denominator\n",
    "    print(\"Result:\",division)\n",
    "except ZeroDivisionError:\n",
    "    print(\"Cannot divide by zero, Please enter a positive number\")\n",
    "except ValueError:\n",
    "    print(\"enter a valid number\")\n",
    "\n",
    "except Exception as e:\n",
    "    print(\"following exception occurred:\",e)"
   ]
  },
  {
   "cell_type": "code",
   "execution_count": null,
   "metadata": {},
   "outputs": [],
   "source": []
  }
 ],
 "metadata": {
  "kernelspec": {
   "display_name": "base",
   "language": "python",
   "name": "python3"
  },
  "language_info": {
   "codemirror_mode": {
    "name": "ipython",
    "version": 3
   },
   "file_extension": ".py",
   "mimetype": "text/x-python",
   "name": "python",
   "nbconvert_exporter": "python",
   "pygments_lexer": "ipython3",
   "version": "3.10.9"
  },
  "orig_nbformat": 4
 },
 "nbformat": 4,
 "nbformat_minor": 2
}
